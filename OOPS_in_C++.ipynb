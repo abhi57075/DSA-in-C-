{
  "nbformat": 4,
  "nbformat_minor": 0,
  "metadata": {
    "colab": {
      "provenance": [],
      "authorship_tag": "ABX9TyPaFx+6Xh3S4MOHJRp1N9/4",
      "include_colab_link": true
    },
    "kernelspec": {
      "name": "python3",
      "display_name": "Python 3"
    },
    "language_info": {
      "name": "python"
    }
  },
  "cells": [
    {
      "cell_type": "markdown",
      "metadata": {
        "id": "view-in-github",
        "colab_type": "text"
      },
      "source": [
        "<a href=\"https://colab.research.google.com/github/abhi57075/DSA-in-CPP/blob/master/OOPS_in_C%2B%2B.ipynb\" target=\"_parent\"><img src=\"https://colab.research.google.com/assets/colab-badge.svg\" alt=\"Open In Colab\"/></a>"
      ]
    },
    {
      "cell_type": "code",
      "source": [
        "!apt-get --purge remove cuda nvidia* libnvidia-*\n",
        "!dpkg -l | grep cuda- | awk '{print $2}' | xargs -n1 dpkg --purge\n",
        "!apt-get remove cuda-*\n",
        "!apt autoremove\n",
        "!apt-get update"
      ],
      "metadata": {
        "id": "5iNN-lQ-god_"
      },
      "execution_count": null,
      "outputs": []
    },
    {
      "cell_type": "code",
      "execution_count": null,
      "metadata": {
        "id": "mPN8vfO3gdyt"
      },
      "outputs": [],
      "source": [
        "!wget https://developer.nvidia.com/compute/cuda/9.2/Prod/local_installers/cuda-repo-ubuntu1604-9-2-local_9.2.88-1_amd64 -O cuda-repo-ubuntu1604-9-2-local_9.2.88-1_amd64.deb\n",
        "!dpkg -i cuda-repo-ubuntu1604-9-2-local_9.2.88-1_amd64.deb\n",
        "!apt-key add /var/cuda-repo-9-2-local/7fa2af80.pub\n",
        "!apt-get update\n",
        "!apt-get install cuda-9.2"
      ]
    },
    {
      "cell_type": "code",
      "source": [
        "!nvcc --version"
      ],
      "metadata": {
        "id": "61IsC-K0g9DS"
      },
      "execution_count": null,
      "outputs": []
    },
    {
      "cell_type": "code",
      "source": [
        "!pip install git+git://github.com/andreinechaev/nvcc4jupyter.git"
      ],
      "metadata": {
        "id": "9l4jvriJg92Z"
      },
      "execution_count": null,
      "outputs": []
    },
    {
      "cell_type": "code",
      "source": [
        "%load_ext nvcc_plugin"
      ],
      "metadata": {
        "id": "chl5Rjx7hBqw"
      },
      "execution_count": null,
      "outputs": []
    },
    {
      "cell_type": "markdown",
      "source": [
        "C language supports modular or procedural programming  \n",
        "Modular programming means building the software with the help of bunch of functions  \n",
        "in OOPS we deal with objects and classes where each object contains a lot of functions inside it    \n",
        "\n",
        "Principles of OOPS:\n",
        "1. Abstraction (we know the name of the function but does not know its working)  \n",
        "2. Encapsulation (Data hiding) (we make data as private and functions as public)     \n",
        "3. Inheritance  (inheriting some properties from class but it can have some function of its own also)    \n",
        "4. Polymorphism  (an object can have multiple forms) (ex: a person can be a father, son, husband, brother, ...)  \n",
        "\n",
        "\n",
        "data is called property and function is called behaviour  \n"
      ],
      "metadata": {
        "id": "JcjHM_2bADaC"
      }
    },
    {
      "cell_type": "code",
      "source": [
        "%%writefile FizzBuzz.cpp\n",
        "// program to demonstrate creation and use of class\n",
        "\n",
        "// classes can be used to define user defined data types\n",
        "// like here rectangle r1,r2 -->r1,r2 are of data type rectangle and r1 and r2 are called objects\n",
        "// here r1 memory will occupy 8 bytes because rectangle class has 2 variables in it that is int length and int breadth\n",
        "// note that function or function variables will not occupy any space in the memory of objects r1 and r2\n",
        "// note that classes will not occupy space in memory until its object is created, like if a class is not used in the whole program\n",
        "// by default everything written in the class is private\n",
        "\n",
        "# include<iostream>\n",
        "using namespace std;\n",
        "class rectangle{\n",
        "    public:\n",
        "    int length,breadth;\n",
        "    int area(){                        // functions will be present in the main memory only once (they will not be depending on the number of objects created for a class)\n",
        "        return length*breadth;\n",
        "    }\n",
        "    int perimeter(){\n",
        "        return length*2 + breadth*2;\n",
        "    }\n",
        "}; // imp to put semicolon after defining a class\n",
        "\n",
        "int main(){\n",
        "    rectangle r1,r2; // r1 and r2 object will be created in stack memory\n",
        "    r1.length = 10;\n",
        "    r1.breadth = 5;\n",
        "    r2.length = 16;\n",
        "    r2.breadth = 8;\n",
        "    cout<<\"area of r1 is: \"<<r1.area()<<endl;\n",
        "    cout<<\"area of r2 is: \"<<r2.area()<<endl;\n",
        "    cout<<\"Perimeter of r1 is: \"<<r1.perimeter()<<endl;\n",
        "    cout<<\"Perimeter of r2 is: \"<<r2.perimeter()<<endl;\n",
        "    return 0;\n",
        "}"
      ],
      "metadata": {
        "colab": {
          "base_uri": "https://localhost:8080/"
        },
        "id": "9uw-1XLciMkW",
        "outputId": "bb52792b-afed-4cf5-f063-fba0582e5e58"
      },
      "execution_count": null,
      "outputs": [
        {
          "output_type": "stream",
          "name": "stdout",
          "text": [
            "Writing FizzBuzz.cpp\n"
          ]
        }
      ]
    },
    {
      "cell_type": "code",
      "source": [
        "%%shell\n",
        "g++ FizzBuzz.cpp -o output\n",
        "./output"
      ],
      "metadata": {
        "colab": {
          "base_uri": "https://localhost:8080/"
        },
        "id": "GMUjGgAPiHfw",
        "outputId": "9419836d-ffc5-4115-d8ab-571000c95cfe"
      },
      "execution_count": null,
      "outputs": [
        {
          "output_type": "stream",
          "name": "stdout",
          "text": [
            "area of r1 is: 50\n",
            "area of r2 is: 128\n",
            "Perimeter of r1 is: 30\n",
            "Perimeter of r2 is: 48\n"
          ]
        },
        {
          "output_type": "execute_result",
          "data": {
            "text/plain": [
              ""
            ]
          },
          "metadata": {},
          "execution_count": 2
        }
      ]
    },
    {
      "cell_type": "code",
      "source": [
        "%%writefile FizzBuzz.cpp\n",
        "// program to demonstrate pointer to object\n",
        "\n",
        "# include<iostream>\n",
        "using namespace std;\n",
        "class rectangle{\n",
        "    public:\n",
        "    int length,breadth;\n",
        "    int area(){\n",
        "        return length*breadth;\n",
        "    }\n",
        "    int perimeter(){\n",
        "        return length*2 + breadth*2;\n",
        "    }\n",
        "}; // imp to put semicolon after defining a class\n",
        "int main(){\n",
        "    rectangle r;\n",
        "    rectangle *p;  // this will also be stored in stack memory\n",
        "    p = &r;  // now p is pointing to r\n",
        "    r.length = 10;\n",
        "    p->length = 5;\n",
        "    p->breadth = 2; // same as r.breadth\n",
        "    cout<<\"area of r is: \"<<p->area()<<endl;\n",
        "    cout<<\"perimeter of r is: \"<<p->perimeter()<<endl;\n",
        "    return 0;\n",
        "}"
      ],
      "metadata": {
        "colab": {
          "base_uri": "https://localhost:8080/"
        },
        "id": "Uqvks68URap0",
        "outputId": "56e87be1-c9ae-43da-f2b0-6b83beab3884"
      },
      "execution_count": null,
      "outputs": [
        {
          "output_type": "stream",
          "name": "stdout",
          "text": [
            "Overwriting FizzBuzz.cpp\n"
          ]
        }
      ]
    },
    {
      "cell_type": "code",
      "source": [
        "%%shell\n",
        "g++ FizzBuzz.cpp -o output\n",
        "./output"
      ],
      "metadata": {
        "colab": {
          "base_uri": "https://localhost:8080/"
        },
        "id": "n05nP_nDS2nu",
        "outputId": "88e6bb5f-2f73-447b-c587-a62ddb2cc379"
      },
      "execution_count": null,
      "outputs": [
        {
          "output_type": "stream",
          "name": "stdout",
          "text": [
            "area of r is: 10\n",
            "perimeter of r is: 14\n"
          ]
        },
        {
          "output_type": "execute_result",
          "data": {
            "text/plain": [
              ""
            ]
          },
          "metadata": {},
          "execution_count": 6
        }
      ]
    },
    {
      "cell_type": "code",
      "source": [
        "%%writefile FizzBuzz.cpp\n",
        "// program to demonstrate creating an object in heap using pointer\n",
        "// every pointer takes 2 bytes of memory\n",
        "\n",
        "# include<iostream>\n",
        "using namespace std;\n",
        "class rectangle{\n",
        "    public:\n",
        "    int length,breadth;\n",
        "    int area(){\n",
        "        return length*breadth;\n",
        "    }\n",
        "    int perimeter(){\n",
        "        return length*2 + breadth*2;\n",
        "    }\n",
        "};\n",
        "int main(){\n",
        "    // here object will be created in stack\n",
        "    rectangle *p;\n",
        "    p = new rectangle; // we can also write p = new rectangle()\n",
        "\n",
        "    // here object will be created in heap\n",
        "    rectangle *q = new rectangle();\n",
        "\n",
        "    // in JAVA we cannot create create object in stack , objects can only be created in heap using 'new'\n",
        "\n",
        "    p->length = 10;\n",
        "    p->breadth = 2;\n",
        "    cout<<\"area of p is: \"<<p->area()<<endl;\n",
        "    cout<<\"peimeter of p is: \"<<p->perimeter()<<endl;\n",
        "    return 0;\n",
        "}"
      ],
      "metadata": {
        "colab": {
          "base_uri": "https://localhost:8080/"
        },
        "id": "Vv3GxjY6TfS7",
        "outputId": "a2cd568a-597d-48cb-9386-53b8885a62da"
      },
      "execution_count": null,
      "outputs": [
        {
          "output_type": "stream",
          "name": "stdout",
          "text": [
            "Overwriting FizzBuzz.cpp\n"
          ]
        }
      ]
    },
    {
      "cell_type": "code",
      "source": [
        "%%shell\n",
        "g++ FizzBuzz.cpp -o output\n",
        "./output"
      ],
      "metadata": {
        "colab": {
          "base_uri": "https://localhost:8080/"
        },
        "id": "ZiiwCa-5U94P",
        "outputId": "667ccce3-dafd-4c96-8ee9-d5c968a966b1"
      },
      "execution_count": null,
      "outputs": [
        {
          "output_type": "stream",
          "name": "stdout",
          "text": [
            "area of p is: 20\n",
            "peimeter of p is: 24\n"
          ]
        },
        {
          "output_type": "execute_result",
          "data": {
            "text/plain": [
              ""
            ]
          },
          "metadata": {},
          "execution_count": 12
        }
      ]
    },
    {
      "cell_type": "markdown",
      "source": [
        "PHILOSPOHY BEHIND DATA HIDING  \n",
        "dat should be private and functions should be public so that user does not mishandle the class  \n",
        "lets say if user makes length of a rectangle as negative. This will result in negative area."
      ],
      "metadata": {
        "id": "rIZTgvUgX8HY"
      }
    },
    {
      "cell_type": "code",
      "source": [
        "%%writefile FizzBuzz.cpp\n",
        "// program to demonstrate data hiding\n",
        "// get function is called as ACCESSORS\n",
        "// set function is called as MUTATORS\n",
        "// both these functions together are called as PROPERTY FUNCTIONS\n",
        "// if our class contains only get function then we can only read the data\n",
        "// similarly if it contains only set function then we can only write the data\n",
        "\n",
        "# include<iostream>\n",
        "using namespace std;\n",
        "class rectangle{\n",
        "\n",
        "    private: // even if we do not write this it is ok since by default if nothing is mentioned it is private\n",
        "    int length;\n",
        "    int breadth;\n",
        "\n",
        "    // we cannot read neither write the length and breadth now\n",
        "                // 1. cout<<r.length<<endl; --> this is not allowed now\n",
        "                // 2. r.length = 14; --> not allowed\n",
        "    // now we need functions to set length and breadth, read length and breadth so that other functions does not give a garbage value\n",
        "    // like since length and breadth have not been initialized so they will contain garbage value so calling the finction area it will return us a garbage value\n",
        "\n",
        "    public:\n",
        "    void setlength(int l){\n",
        "        if (l>0){\n",
        "          length = l;\n",
        "        }\n",
        "        else{\n",
        "          length = 0;\n",
        "        }\n",
        "    }\n",
        "    void setbreadth(int b){\n",
        "        if (b>0){\n",
        "          breadth = b;\n",
        "        }\n",
        "        else{\n",
        "          breadth = 0;\n",
        "        }\n",
        "    }\n",
        "    int getlength(){\n",
        "      return length;\n",
        "    }\n",
        "    int getbreadth(){\n",
        "      return breadth;\n",
        "    }\n",
        "\n",
        "    int area(){\n",
        "      return length*breadth;\n",
        "    }\n",
        "    int perimeter(){\n",
        "      return length*2 + breadth*2;\n",
        "    }\n",
        "};\n",
        "int main(){\n",
        "    rectangle r;\n",
        "    r.setlength(100);\n",
        "    r.setbreadth(20);\n",
        "    cout<<\"length of r is: \"<<r.getlength()<<endl;\n",
        "    cout<<\"breadth of r is: \"<<r.getbreadth()<<endl;\n",
        "    cout<<\"area of rectangle is: \"<<r.area()<<endl;\n",
        "    cout<<\"perimeter of rectangle is: \"<<r.perimeter()<<endl;\n",
        "    return 0;\n",
        "}"
      ],
      "metadata": {
        "colab": {
          "base_uri": "https://localhost:8080/"
        },
        "id": "lzgI7pHrX29w",
        "outputId": "364ecee4-83d1-4fc1-cccc-e18dce4760c8"
      },
      "execution_count": null,
      "outputs": [
        {
          "output_type": "stream",
          "name": "stdout",
          "text": [
            "Overwriting FizzBuzz.cpp\n"
          ]
        }
      ]
    },
    {
      "cell_type": "code",
      "source": [
        "%%shell\n",
        "g++ FizzBuzz.cpp -o output\n",
        "./output"
      ],
      "metadata": {
        "colab": {
          "base_uri": "https://localhost:8080/"
        },
        "id": "nWd85k4qcpVy",
        "outputId": "cdd7ebd8-0e75-458f-8a28-c913c64594ca"
      },
      "execution_count": null,
      "outputs": [
        {
          "output_type": "stream",
          "name": "stdout",
          "text": [
            "length of r is: 100\n",
            "breadth of r is: 20\n",
            "area of rectangle is: 2000\n",
            "perimeter of rectangle is: 240\n"
          ]
        },
        {
          "output_type": "execute_result",
          "data": {
            "text/plain": [
              ""
            ]
          },
          "metadata": {},
          "execution_count": 29
        }
      ]
    },
    {
      "cell_type": "markdown",
      "source": [
        "PHILOSOPHY OF CONSTRUCTOR:\n",
        "  \n",
        "in the above code what we did was we created an object of class rectangle and then set its length but philosophically it is wrong that rectangle wil  have some length and breadth    \n",
        "\n",
        "imagine you buy a car and here the function is color. it will have some color when we purchased it. any now we are setting the colour of our choice to the car. this is not what we usually do.\n",
        "\n",
        "so this is where constructor comes in. We will define our parameters when we are creating the object for a class  \n"
      ],
      "metadata": {
        "id": "l8oNuzrkljAX"
      }
    },
    {
      "cell_type": "code",
      "source": [
        "%%writefile FizzBuzz.cpp\n",
        "// program to demonstrate constructors and overloaded constructors\n",
        "// every class will have some constructor\n",
        "// compiler provided built in constructor is called as default constructor\n",
        "// constructor cannot have a return type\n",
        "// user defined constructors:\n",
        "//    1. non parameterized constructors\n",
        "//    2. parameterized constructor\n",
        "//    3. copy constructor\n",
        "\n",
        "// here area function and perimeter function are called facilitators\n",
        "\n",
        "// constructor should have the same name as class name\n",
        "// analogy to the three user defined constructor\n",
        "// 1. you go to a shop and say I WANT A PEN he will give you the most frequent selling pen in his shop pen.\n",
        "//    since specifications have not been provided it is like non parameterized constructor\n",
        "// 2. you go to a shop and say I WANT A BLUE TRIMAX.\n",
        "//    here you have given some more info to the shopkeeper. this is like parameterized constructor\n",
        "// 3. you go to the shop and from your bag, you remove a pen and say I WANT A PEN EXACTLY LIKE THIS\n",
        "//    this is like copy constructor\n",
        "\n",
        "// -----------------------------------------------------------------------------------------------------------------------\n",
        "# include<iostream>\n",
        "using namespace std;\n",
        "\n",
        "class rectangle{\n",
        "    private:\n",
        "    int length,breadth;\n",
        "// -----------------------------------------------------------------------------------------------------------------------\n",
        "\n",
        "    public:\n",
        "\n",
        "    // 1. non parameterized constructor\n",
        "    rectangle(){  // use rectangle r() to call this constructor\n",
        "      length = 0;\n",
        "      breadth = 0;\n",
        "    }\n",
        "// -----------------------------------------------------------------------------------------------------------------------\n",
        "    // 2. parameterized constructor\n",
        "    //rectangle (int l=0,int b=0){ // now this will act as a non parameterized constructor also\n",
        "    rectangle (int l, int b){\n",
        "       setlength(l);\n",
        "       setbreadth(b);\n",
        "    }\n",
        "// -------------------------------------------------------------------------------------------------------------------------\n",
        "    //3. copy constructor\n",
        "    rectangle (rectangle &rect){ // use rectangle r2(r) to call this constructor\n",
        "        length = rect.length;\n",
        "        breadth = rect.breadth;\n",
        "    }\n",
        "// --------------------------------------------------------------------------------------------------------------------------\n",
        "    void setlength(int l){\n",
        "        if (l>0){\n",
        "          length = l;\n",
        "        }\n",
        "        else{\n",
        "          length = 0;\n",
        "        }\n",
        "    }\n",
        "    void setbreadth(int b){\n",
        "        if (b>0){\n",
        "          breadth = b;\n",
        "        }\n",
        "        else{\n",
        "          breadth = 0;\n",
        "        }\n",
        "    }\n",
        "    int getlength(){\n",
        "      return length;\n",
        "    }\n",
        "    int getbreadth(){\n",
        "      return breadth;\n",
        "    }\n",
        "\n",
        "    int area(){\n",
        "        return length*breadth;\n",
        "    }\n",
        "    int perimeter(){\n",
        "        return length*2 + breadth*2;\n",
        "    }\n",
        "};\n",
        "// -----------------------------------------------------------------------------------------------------------------------\n",
        "int main(){\n",
        "    rectangle r1;\n",
        "    cout<<\"Perimeter of r1 is: \"<<r1.perimeter()<<endl;\n",
        "\n",
        "    rectangle r2(25,10);\n",
        "    cout<<\"length of r2 is: \"<<r2.getlength()<<endl;\n",
        "    cout<<\"breadth of r2 is: \"<<r2.getbreadth()<<endl;\n",
        "    cout<<\"Perimeter of r2 is: \"<<r2.perimeter()<<endl;\n",
        "\n",
        "    rectangle r3(r2);\n",
        "    cout<<\"length of r3 is: \"<<r3.getlength()<<endl;\n",
        "    cout<<\"breadth of r3 is: \"<<r3.getbreadth()<<endl;\n",
        "    cout<<\"Perimeter of r3 is: \"<<r3.perimeter()<<endl;\n",
        "    return 0;\n",
        "}"
      ],
      "metadata": {
        "colab": {
          "base_uri": "https://localhost:8080/"
        },
        "id": "PKuFDl3YFW3S",
        "outputId": "e1ba8a8b-10c4-4c74-af1d-fd596136f0e0"
      },
      "execution_count": null,
      "outputs": [
        {
          "output_type": "stream",
          "name": "stdout",
          "text": [
            "Overwriting FizzBuzz.cpp\n"
          ]
        }
      ]
    },
    {
      "cell_type": "code",
      "source": [
        "%%shell\n",
        "g++ FizzBuzz.cpp -o output\n",
        "./output"
      ],
      "metadata": {
        "colab": {
          "base_uri": "https://localhost:8080/"
        },
        "id": "b5SOD96kLdEi",
        "outputId": "ce1fc01b-b4e0-4b0c-fceb-84cc2eb253a2"
      },
      "execution_count": null,
      "outputs": [
        {
          "output_type": "stream",
          "name": "stdout",
          "text": [
            "Perimeter of r1 is: 0\n",
            "length of r2 is: 25\n",
            "breadth of r2 is: 10\n",
            "Perimeter of r2 is: 70\n",
            "length of r3 is: 25\n",
            "breadth of r3 is: 10\n",
            "Perimeter of r3 is: 70\n"
          ]
        },
        {
          "output_type": "execute_result",
          "data": {
            "text/plain": [
              ""
            ]
          },
          "metadata": {},
          "execution_count": 38
        }
      ]
    },
    {
      "cell_type": "code",
      "source": [
        "%%writefile FizzBuzz.cpp\n",
        "// program to demonstrate deep copy constructor\n",
        "// if there is any direct memory allocation done by an object then the copy constructor may not create a new memory for it\n",
        "// it may be pointing on the same memory\n",
        "\n",
        "# include<iostream>\n",
        "using namespace std;\n",
        "class test{\n",
        "    public:\n",
        "    int a;\n",
        "    int *p;\n",
        "    test(int x){\n",
        "        a = x;\n",
        "        p = new int[a];\n",
        "    }\n",
        "    test (test &t){\n",
        "        a = t.a;  // a will have the value of 5\n",
        "      //p = t.p   // here p will point to the same array of t1 instead of pointing to its array\n",
        "      // since t1 does not have any value inside p(array) therefore we did not copy the elements of it into our t2 p(array)\n",
        "      // if some elements were there in t1 p(array) then for DEEP COPY we should copy those elements into t2 p(array)\n",
        "        p = new int[a];\n",
        "    }\n",
        "};\n",
        "int main(){\n",
        "    test t1(5);\n",
        "    cout<<\"the value of t1.a is: \"<<t1.a<<endl;\n",
        "    cout<<\"the address of t1.p is: \"<<&(t1.p)<<endl;\n",
        "\n",
        "    test t2(t1);\n",
        "    cout<<\"the value of t2.p is: \"<<t2.a<<endl;\n",
        "    cout<<\"the value of t2.p is: \"<<&(t2.p)<<endl;\n",
        "}"
      ],
      "metadata": {
        "colab": {
          "base_uri": "https://localhost:8080/"
        },
        "id": "YKoFFvfyKKzv",
        "outputId": "d27fa24d-5dde-49b8-f27d-af601d9cc139"
      },
      "execution_count": null,
      "outputs": [
        {
          "output_type": "stream",
          "name": "stdout",
          "text": [
            "Overwriting FizzBuzz.cpp\n"
          ]
        }
      ]
    },
    {
      "cell_type": "code",
      "source": [
        "%%shell\n",
        "g++ FizzBuzz.cpp -o output\n",
        "./output"
      ],
      "metadata": {
        "colab": {
          "base_uri": "https://localhost:8080/"
        },
        "id": "9ic43LihNOVq",
        "outputId": "cbe5493d-9bba-4b28-bbca-eb2ae2342dc3"
      },
      "execution_count": null,
      "outputs": [
        {
          "output_type": "stream",
          "name": "stdout",
          "text": [
            "the value of t1.a is: 5\n",
            "the address of t1 p is: 0x7ffeb46ec1d8\n",
            "the value of t2.p is: 5\n",
            "the value of t2.p is: 0x7ffeb46ec1e8\n"
          ]
        },
        {
          "output_type": "execute_result",
          "data": {
            "text/plain": [
              ""
            ]
          },
          "metadata": {},
          "execution_count": 26
        }
      ]
    },
    {
      "cell_type": "code",
      "source": [
        "%%writefile FizzBuzz.cpp\n",
        "// program to demonstrate use of scope resolution operator\n",
        "// i.e how to write function definition of a class outside a class\n",
        "// functions written inside a class becomes inline function\n",
        "// inline functions are those which will expand in the same line when they are called i.e there is no separate block for that function\n",
        "// inline functions should not have any complex logic\n",
        "// here perimeter will be a separate function\n",
        "# include<iostream>\n",
        "using namespace std;\n",
        "\n",
        "class rectangle{\n",
        "    private:\n",
        "    int length,breadth;\n",
        "\n",
        "    public:\n",
        "    rectangle(){\n",
        "      length = 0;\n",
        "      breadth = 0;\n",
        "    }\n",
        "\n",
        "    rectangle (int l, int b){\n",
        "       setlength(l);\n",
        "       setbreadth(b);\n",
        "    }\n",
        "\n",
        "    rectangle (rectangle &rect){\n",
        "        length = rect.length;\n",
        "        breadth = rect.breadth;\n",
        "    }\n",
        "\n",
        "    void setlength(int l){\n",
        "        if (l>0){\n",
        "          length = l;\n",
        "        }\n",
        "        else{\n",
        "          length = 0;\n",
        "        }\n",
        "    }\n",
        "    void setbreadth(int b){\n",
        "        if (b>0){\n",
        "          breadth = b;\n",
        "        }\n",
        "        else{\n",
        "          breadth = 0;\n",
        "        }\n",
        "    }\n",
        "    int getlength(){\n",
        "      return length;\n",
        "    }\n",
        "    int getbreadth(){\n",
        "      return breadth;\n",
        "    }\n",
        "\n",
        "    int area(){\n",
        "        return length*breadth;\n",
        "    }\n",
        "    int perimeter();\n",
        "    // to make function perimeter inline write\n",
        "    // inline int perimeter(); and then write its definition outside this way this perimeter function can be an inline function\n",
        "};\n",
        "// note perimeter function cannot be defined inside the main function\n",
        "int rectangle :: perimeter(){  // syntax is return type then class name then scope resolution operator(::) then function name then parameters\n",
        "    return (length*2 + breadth*2);\n",
        "  }\n",
        "\n",
        "int main(){\n",
        "  rectangle r1(25,20);\n",
        "  cout<<\"perimeter is: \"<<r1.perimeter()<<endl;\n",
        "  return 0;\n",
        "}\n",
        "\n"
      ],
      "metadata": {
        "colab": {
          "base_uri": "https://localhost:8080/"
        },
        "id": "OskVnZUtk9-2",
        "outputId": "2b5f7d95-1349-4e6b-8d55-bf6345c08ac4"
      },
      "execution_count": null,
      "outputs": [
        {
          "output_type": "stream",
          "name": "stdout",
          "text": [
            "Overwriting FizzBuzz.cpp\n"
          ]
        }
      ]
    },
    {
      "cell_type": "code",
      "source": [
        "%%shell\n",
        "g++ FizzBuzz.cpp -o output\n",
        "./output"
      ],
      "metadata": {
        "colab": {
          "base_uri": "https://localhost:8080/"
        },
        "id": "jCa5hjl8uIkn",
        "outputId": "d8081953-fcb7-41da-d7b2-b743b93be495"
      },
      "execution_count": null,
      "outputs": [
        {
          "output_type": "stream",
          "name": "stdout",
          "text": [
            "perimeter is: 90\n"
          ]
        },
        {
          "output_type": "execute_result",
          "data": {
            "text/plain": [
              ""
            ]
          },
          "metadata": {},
          "execution_count": 52
        }
      ]
    },
    {
      "cell_type": "code",
      "source": [
        "%%writefile FizzBuzz.cpp\n",
        "// program to demonstrate use of this pointer\n",
        "# include<iostream>\n",
        "using namespace std;\n",
        "\n",
        "class rectangle{\n",
        "    private:\n",
        "    int length,breadth;\n",
        "\n",
        "    public:\n",
        "    rectangle(){\n",
        "      length = 0;\n",
        "      breadth = 0;\n",
        "    }\n",
        "\n",
        "    rectangle (int length, int breadth){\n",
        "       this->length = length;\n",
        "       this->breadth = breadth;\n",
        "    }\n",
        "\n",
        "    rectangle (rectangle &rect){\n",
        "        length = rect.length;\n",
        "        breadth = rect.breadth;\n",
        "    }\n",
        "\n",
        "    void setlength(int l){\n",
        "        if (l>0){\n",
        "          length = l;\n",
        "        }\n",
        "        else{\n",
        "          length = 0;\n",
        "        }\n",
        "    }\n",
        "    void setbreadth(int b){\n",
        "        if (b>0){\n",
        "          breadth = b;\n",
        "        }\n",
        "        else{\n",
        "          breadth = 0;\n",
        "        }\n",
        "    }\n",
        "    int getlength(){\n",
        "      return length;\n",
        "    }\n",
        "    int getbreadth(){\n",
        "      return breadth;\n",
        "    }\n",
        "\n",
        "    int area(){\n",
        "      return length*breadth;\n",
        "    }\n",
        "    int perimeter(){\n",
        "      return 2*length + 2*breadth;\n",
        "    }\n",
        "};\n",
        "int main(){\n",
        "    rectangle r(12,4);\n",
        "    cout<<\"Perimeter is: \"<<r.perimeter()<<endl;\n",
        "}"
      ],
      "metadata": {
        "colab": {
          "base_uri": "https://localhost:8080/"
        },
        "id": "zWD7ujwTM9n2",
        "outputId": "bff1835c-933e-407c-a5f1-63d455c86e02"
      },
      "execution_count": null,
      "outputs": [
        {
          "output_type": "stream",
          "name": "stdout",
          "text": [
            "Writing FizzBuzz.cpp\n"
          ]
        }
      ]
    },
    {
      "cell_type": "code",
      "source": [
        "%%shell\n",
        "g++ FizzBuzz.cpp -o output\n",
        "./output"
      ],
      "metadata": {
        "colab": {
          "base_uri": "https://localhost:8080/"
        },
        "id": "bXWi4WYPN0Bx",
        "outputId": "329eca19-6180-4f32-836e-29cbc094ec99"
      },
      "execution_count": null,
      "outputs": [
        {
          "output_type": "stream",
          "name": "stdout",
          "text": [
            "Perimeter is: 32\n"
          ]
        },
        {
          "output_type": "execute_result",
          "data": {
            "text/plain": [
              ""
            ]
          },
          "metadata": {},
          "execution_count": 2
        }
      ]
    },
    {
      "cell_type": "code",
      "source": [
        "%%writefile FizzBuzz.cpp\n",
        "// program to demonstrate difference between structure and classes\n",
        "// in C language we can have only data inside a structure and not functions\n",
        "// in C++ language we can have data as well as functions inside a structure\n",
        "// only major difference between structure and classes in C++ is that in structure everything by default is public whereas in classes everything by default is private\n",
        "# include<iostream>\n",
        "using namespace std;\n",
        "struct demo{\n",
        "    int x;\n",
        "    int y;\n",
        "    void display(){\n",
        "      cout<<x<<\" \"<<y<<endl;\n",
        "    }\n",
        "};\n",
        "int main(){\n",
        "    demo d;\n",
        "    d.x = 10;\n",
        "    d.y = 12;\n",
        "    d.display();\n",
        "    return 0;\n",
        "}"
      ],
      "metadata": {
        "colab": {
          "base_uri": "https://localhost:8080/"
        },
        "id": "fIMOtraiOokI",
        "outputId": "fc6ff943-9519-459d-c33b-7d929c03d93a"
      },
      "execution_count": null,
      "outputs": [
        {
          "output_type": "stream",
          "name": "stdout",
          "text": [
            "Overwriting FizzBuzz.cpp\n"
          ]
        }
      ]
    },
    {
      "cell_type": "code",
      "source": [
        "%%shell\n",
        "g++ FizzBuzz.cpp -o output\n",
        "./output"
      ],
      "metadata": {
        "colab": {
          "base_uri": "https://localhost:8080/"
        },
        "id": "ojahN__qPJ-D",
        "outputId": "7f21b0f1-b0dd-4710-c56d-ed27aaa264ec"
      },
      "execution_count": null,
      "outputs": [
        {
          "output_type": "stream",
          "name": "stdout",
          "text": [
            "10 12\n"
          ]
        },
        {
          "output_type": "execute_result",
          "data": {
            "text/plain": [
              ""
            ]
          },
          "metadata": {},
          "execution_count": 6
        }
      ]
    },
    {
      "cell_type": "code",
      "source": [
        "%%writefile FizzBuzz.cpp\n",
        "// program to demonstrate operator overloading\n",
        "// program to add 2 complex numbers\n",
        "# include<iostream>\n",
        "using namespace std;\n",
        "class complex{\n",
        "    private:\n",
        "    int real;\n",
        "    int imaginary;\n",
        "    public:\n",
        "    complex (int real = 0, int imaginary = 0){\n",
        "        this->real = real;\n",
        "        this->imaginary = imaginary;\n",
        "    }\n",
        "    int getreal(){\n",
        "        return real;\n",
        "    }\n",
        "    int getimaginary(){\n",
        "        return imaginary;\n",
        "    }\n",
        "    complex add(complex x){\n",
        "        complex temp;\n",
        "        temp.real = real + x.real;\n",
        "        temp.imaginary = imaginary + x.imaginary;\n",
        "        return temp;\n",
        "    }\n",
        "    complex addition(complex x, complex y){\n",
        "        complex temp;\n",
        "        temp.real = x.real + y.real;\n",
        "        temp.imaginary = x.imaginary + y.imaginary;\n",
        "        return temp;\n",
        "    }\n",
        "    complex operator + (complex x){            // operator overloading\n",
        "        complex temp;\n",
        "        temp.real = real + x.real;\n",
        "        temp.imaginary = imaginary + x.imaginary;\n",
        "        return temp;\n",
        "    }\n",
        "};\n",
        "int main(){\n",
        "    complex c1(2,4);\n",
        "    complex c2(3,6);\n",
        "    complex c3,c4,c5,c6;\n",
        "\n",
        "    c3 = c1.add(c2);\n",
        "    cout<<\"the real part is: \"<<c3.getreal()<<\" and the imaginary part is: \"<<c3.getimaginary()<<endl;\n",
        "\n",
        "    c5 = c4.addition(c1,c2);\n",
        "    cout<<\"the real part is: \"<<c5.getreal()<<\" and the imaginary part is: \"<<c5.getimaginary()<<endl;\n",
        "\n",
        "    c6 = c1 + c2;\n",
        "    cout<<\"the real part is: \"<<c6.getreal()<<\" and the imaginary part is: \"<<c6.getimaginary()<<endl;\n",
        "    return 0;\n",
        "}"
      ],
      "metadata": {
        "colab": {
          "base_uri": "https://localhost:8080/"
        },
        "id": "AIlACH7On-g6",
        "outputId": "b5e2f503-d182-4bdb-aca3-38b5b846cf0c"
      },
      "execution_count": null,
      "outputs": [
        {
          "output_type": "stream",
          "name": "stdout",
          "text": [
            "Overwriting FizzBuzz.cpp\n"
          ]
        }
      ]
    },
    {
      "cell_type": "code",
      "source": [
        "%%shell\n",
        "g++ FizzBuzz.cpp -o output\n",
        "./output"
      ],
      "metadata": {
        "colab": {
          "base_uri": "https://localhost:8080/"
        },
        "id": "ETLMMveuqien",
        "outputId": "cf342ca0-93ae-400e-e261-f6e54452a8e3"
      },
      "execution_count": null,
      "outputs": [
        {
          "output_type": "stream",
          "name": "stdout",
          "text": [
            "the real part is: 5 and the imaginary part is: 10\n",
            "the real part is: 5 and the imaginary part is: 10\n",
            "the real part is: 5 and the imaginary part is: 10\n"
          ]
        },
        {
          "output_type": "execute_result",
          "data": {
            "text/plain": [
              ""
            ]
          },
          "metadata": {},
          "execution_count": 28
        }
      ]
    },
    {
      "cell_type": "code",
      "source": [
        "%%writefile FizzBuzz.cpp\n",
        "// program to demonstrate operator overloading using friend function\n",
        "// program to add 2 complex numbers\n",
        "# include<iostream>\n",
        "using namespace std;\n",
        "class complex{\n",
        "    private:\n",
        "    int real;\n",
        "    int imaginary;\n",
        "    public:\n",
        "    complex (int real = 0, int imaginary = 0){\n",
        "        this->real = real;\n",
        "        this->imaginary = imaginary;\n",
        "    }\n",
        "    int getreal(){\n",
        "        return real;\n",
        "    }\n",
        "    int getimaginary(){\n",
        "        return imaginary;\n",
        "    }\n",
        "\n",
        "    friend complex operator + (complex x,complex y);      // friend function body should be defined outside the class\n",
        "\n",
        "};\n",
        "complex operator + (complex x, complex y){\n",
        "        complex temp;\n",
        "        temp.real = y.real + x.real;\n",
        "        temp.imaginary = y.imaginary + x.imaginary;\n",
        "        return temp;\n",
        "}\n",
        "int main(){\n",
        "    complex c1(22,44);\n",
        "    complex c2(12,14);\n",
        "    complex c3,c4,c5,c6;\n",
        "\n",
        "    c3 = c1+c2;\n",
        "    cout<<\"the real part is: \"<<c3.getreal()<<\" and the imaginary part is: \"<<c3.getimaginary()<<endl;\n",
        "    return 0;\n",
        "}"
      ],
      "metadata": {
        "colab": {
          "base_uri": "https://localhost:8080/"
        },
        "id": "UY6t4jWywB47",
        "outputId": "450b3725-7e1c-4808-9d0b-4be67e82304c"
      },
      "execution_count": null,
      "outputs": [
        {
          "output_type": "stream",
          "name": "stdout",
          "text": [
            "Overwriting FizzBuzz.cpp\n"
          ]
        }
      ]
    },
    {
      "cell_type": "code",
      "source": [
        "%%shell\n",
        "g++ FizzBuzz.cpp -o output\n",
        "./output"
      ],
      "metadata": {
        "colab": {
          "base_uri": "https://localhost:8080/"
        },
        "id": "nStZvLhixvfA",
        "outputId": "d58f16a9-d183-4689-ada1-816c9bd7aa82"
      },
      "execution_count": null,
      "outputs": [
        {
          "output_type": "stream",
          "name": "stdout",
          "text": [
            "the real part is: 34 and the imaginary part is: 58\n"
          ]
        },
        {
          "output_type": "execute_result",
          "data": {
            "text/plain": [
              ""
            ]
          },
          "metadata": {},
          "execution_count": 42
        }
      ]
    },
    {
      "cell_type": "code",
      "source": [
        "%%writefile FizzBuzz.cpp\n",
        "// program to demonstrate operator overloading using friend function\n",
        "// program to display output in the form of a+bi\n",
        "// overloading insertion operator(\"<<\")\n",
        "# include<iostream>\n",
        "using namespace std;\n",
        "class complex{\n",
        "    private:\n",
        "    int real;\n",
        "    int imaginary;\n",
        "    public:\n",
        "    complex (int real = 0, int imaginary = 0){\n",
        "        this->real = real;\n",
        "        this->imaginary = imaginary;\n",
        "    }\n",
        "    int getreal(){\n",
        "        return real;\n",
        "    }\n",
        "    int getimaginary(){\n",
        "        return imaginary;\n",
        "    }\n",
        "\n",
        "    friend complex operator + (complex x,complex y);      // friend function body should be defined outside the class\n",
        "\n",
        "    friend ostream & operator <<(ostream &o, complex &c1);\n",
        "};\n",
        "complex operator + (complex x, complex y){\n",
        "        complex temp;\n",
        "        temp.real = y.real + x.real;\n",
        "        temp.imaginary = y.imaginary + x.imaginary;\n",
        "        return temp;\n",
        "}\n",
        "ostream & operator <<(ostream &o, complex &c1){\n",
        "        o<<c1.real<<\" + \"<<c1.imaginary<<\"i\"<<endl;\n",
        "        return o;\n",
        "}\n",
        "int main(){\n",
        "    complex c1(12,14);\n",
        "    complex c2(11,13);\n",
        "    complex c3;\n",
        "    c3 = c1+c2;\n",
        "    cout<<c3;\n",
        "    return 0;\n",
        "}"
      ],
      "metadata": {
        "colab": {
          "base_uri": "https://localhost:8080/"
        },
        "id": "MH3nuNpbzQxZ",
        "outputId": "797f95a3-ab31-4999-ddc3-1df6160a69ff"
      },
      "execution_count": null,
      "outputs": [
        {
          "output_type": "stream",
          "name": "stdout",
          "text": [
            "Overwriting FizzBuzz.cpp\n"
          ]
        }
      ]
    },
    {
      "cell_type": "code",
      "source": [
        "%%shell\n",
        "g++ FizzBuzz.cpp -o output\n",
        "./output"
      ],
      "metadata": {
        "colab": {
          "base_uri": "https://localhost:8080/"
        },
        "id": "jUPUX5HS2hrH",
        "outputId": "94c212ff-99c2-43e0-ee37-705552f2659a"
      },
      "execution_count": null,
      "outputs": [
        {
          "output_type": "stream",
          "name": "stdout",
          "text": [
            "23 + 27i\n"
          ]
        },
        {
          "output_type": "execute_result",
          "data": {
            "text/plain": [
              ""
            ]
          },
          "metadata": {},
          "execution_count": 46
        }
      ]
    },
    {
      "cell_type": "code",
      "source": [
        "%%writefile FizzBuzz.cpp\n",
        "// program to demonstrate inheritance\n",
        "# include<iostream>\n",
        "using namespace std;\n",
        "class base{\n",
        "    public:\n",
        "    int x =10;\n",
        "    void show(){\n",
        "      cout<<x<<endl;\n",
        "    }\n",
        "};\n",
        "class derived : public base{\n",
        "    public:\n",
        "    int y =20;\n",
        "    void display(){\n",
        "        cout<<x<<\" \"<<y<<endl;\n",
        "    }\n",
        "};\n",
        "int main(){\n",
        "    base b;\n",
        "    b.x = 12;\n",
        "    b.show();\n",
        "    derived d;\n",
        "    d.display();\n",
        "    return 0;\n",
        "}"
      ],
      "metadata": {
        "colab": {
          "base_uri": "https://localhost:8080/"
        },
        "id": "wqcXJcd3sQS6",
        "outputId": "3ba2008d-1c6f-47e1-ad33-f8d6d098baa2"
      },
      "execution_count": null,
      "outputs": [
        {
          "output_type": "stream",
          "name": "stdout",
          "text": [
            "Overwriting FizzBuzz.cpp\n"
          ]
        }
      ]
    },
    {
      "cell_type": "code",
      "source": [
        "%%shell\n",
        "g++ FizzBuzz.cpp -o output\n",
        "./output"
      ],
      "metadata": {
        "colab": {
          "base_uri": "https://localhost:8080/"
        },
        "id": "dFHdD0Mvs4L6",
        "outputId": "4544836d-481e-4e83-ff53-764829ff3e9d"
      },
      "execution_count": null,
      "outputs": [
        {
          "output_type": "stream",
          "name": "stdout",
          "text": [
            "12\n",
            "10 20\n"
          ]
        },
        {
          "output_type": "execute_result",
          "data": {
            "text/plain": [
              ""
            ]
          },
          "metadata": {},
          "execution_count": 12
        }
      ]
    },
    {
      "cell_type": "code",
      "source": [
        "%%writefile FizzBuzz.cpp\n",
        "// program to demonstrate inheritance of cuboid from rectangle\n",
        "\n",
        "# include<iostream>\n",
        "using namespace std;\n",
        "\n",
        "class rectangle{\n",
        "    private:\n",
        "    int length,breadth;\n",
        "\n",
        "    public:\n",
        "    rectangle(){\n",
        "      length = 0;\n",
        "      breadth = 0;\n",
        "    }\n",
        "\n",
        "    rectangle (int length, int breadth){\n",
        "       this->length = length;\n",
        "       this->breadth = breadth;\n",
        "    }\n",
        "\n",
        "    rectangle (rectangle &rect){\n",
        "        length = rect.length;\n",
        "        breadth = rect.breadth;\n",
        "    }\n",
        "\n",
        "    void setlength(int l){\n",
        "        if (l>0){\n",
        "          length = l;\n",
        "        }\n",
        "        else{\n",
        "          length = 0;\n",
        "        }\n",
        "    }\n",
        "    void setbreadth(int b){\n",
        "        if (b>0){\n",
        "          breadth = b;\n",
        "        }\n",
        "        else{\n",
        "          breadth = 0;\n",
        "        }\n",
        "    }\n",
        "    int getlength(){\n",
        "      return length;\n",
        "    }\n",
        "    int getbreadth(){\n",
        "      return breadth;\n",
        "    }\n",
        "\n",
        "    int area(){\n",
        "      return length*breadth;\n",
        "    }\n",
        "    int perimeter(){\n",
        "      return 2*length + 2*breadth;\n",
        "    }\n",
        "};\n",
        "class cuboid : public rectangle{\n",
        "    private:\n",
        "    int height;\n",
        "    public:\n",
        "    cuboid (int l=0, int b=0, int h = 0){\n",
        "        height = h;\n",
        "        setlength(l);\n",
        "        setbreadth(b);\n",
        "    }\n",
        "    int getheight(){\n",
        "        return height;\n",
        "    }\n",
        "    void setheigth(int h){\n",
        "        height = h;\n",
        "    }\n",
        "    int volume(){\n",
        "        return area()*height;\n",
        "    }\n",
        "    int surfacearea(){\n",
        "        return 2*(getlength()+getbreadth()) + 2*(getbreadth()+height) + 2*(getlength()+height);\n",
        "    }\n",
        "};\n",
        "int main(){\n",
        "    cuboid c(10,5,2);\n",
        "    cout<<\"volume of cuboid is: \"<<c.volume()<<endl;\n",
        "    cout<<\"surface area of cuboid is: \"<<c.surfacearea()<<endl;\n",
        "    return 0;\n",
        "}"
      ],
      "metadata": {
        "colab": {
          "base_uri": "https://localhost:8080/"
        },
        "id": "WMln6fJ_tW_H",
        "outputId": "e7dc7088-af36-42c4-910d-0cd625fcd225"
      },
      "execution_count": null,
      "outputs": [
        {
          "output_type": "stream",
          "name": "stdout",
          "text": [
            "Overwriting FizzBuzz.cpp\n"
          ]
        }
      ]
    },
    {
      "cell_type": "code",
      "source": [
        "%%shell\n",
        "g++ FizzBuzz.cpp -o output\n",
        "./output"
      ],
      "metadata": {
        "colab": {
          "base_uri": "https://localhost:8080/"
        },
        "id": "6go3OL-HW9WF",
        "outputId": "9d4d214e-5854-4612-99e9-00de1194f62f"
      },
      "execution_count": null,
      "outputs": [
        {
          "output_type": "stream",
          "name": "stdout",
          "text": [
            "volume of cuboid is: 100\n",
            "surface area of cuboid is: 68\n"
          ]
        },
        {
          "output_type": "execute_result",
          "data": {
            "text/plain": [
              ""
            ]
          },
          "metadata": {},
          "execution_count": 12
        }
      ]
    },
    {
      "cell_type": "code",
      "source": [
        "%%writefile FizzBuzz.cpp\n",
        "// program to demonstrate constructors in inheritance\n",
        "# include<iostream>\n",
        "using namespace std;\n",
        "class base{\n",
        "    public:\n",
        "    base(){\n",
        "        cout<<\"default of base class\"<<endl;\n",
        "    }\n",
        "    base(int x){\n",
        "        cout<<\"value of x in base class constructor is: \"<<x<<endl;\n",
        "    }\n",
        "};\n",
        "class derived : public base{\n",
        "    public:\n",
        "    derived(){\n",
        "        cout<<\"default of derived class\"<<endl;\n",
        "    }\n",
        "    derived(int y){\n",
        "        cout<<\"value of y in derived class is: \"<<y<<endl;\n",
        "    }\n",
        "    derived(int x,int y): base(x){  // this means sending x as parameter to the base class constructor\n",
        "        cout<<\"value of y in derived class is: \"<<y<<endl;\n",
        "    }\n",
        "};\n",
        "int main(){\n",
        "    // the parent class constructor will always be executed first\n",
        "    derived d;\n",
        "    derived d1(25);\n",
        "    derived d2(19,17);\n",
        "    return 0;\n",
        " }"
      ],
      "metadata": {
        "colab": {
          "base_uri": "https://localhost:8080/"
        },
        "id": "S4GrWmf0ZoWT",
        "outputId": "8b017423-54bf-41c4-8b27-fc0bdc938981"
      },
      "execution_count": null,
      "outputs": [
        {
          "output_type": "stream",
          "name": "stdout",
          "text": [
            "Overwriting FizzBuzz.cpp\n"
          ]
        }
      ]
    },
    {
      "cell_type": "code",
      "source": [
        "%%shell\n",
        "g++ FizzBuzz.cpp -o output\n",
        "./output"
      ],
      "metadata": {
        "colab": {
          "base_uri": "https://localhost:8080/"
        },
        "id": "jsjmVLtOa4Cz",
        "outputId": "fe249ea1-f05c-4aae-de07-95e282cbafe9"
      },
      "execution_count": null,
      "outputs": [
        {
          "output_type": "stream",
          "name": "stdout",
          "text": [
            "default of base class\n",
            "default of derived class\n",
            "default of base class\n",
            "value of y in derived class is: 25\n",
            "value of x in base class constructor is: 19\n",
            "value of y in derived class is: 17\n"
          ]
        },
        {
          "output_type": "execute_result",
          "data": {
            "text/plain": [
              ""
            ]
          },
          "metadata": {},
          "execution_count": 24
        }
      ]
    },
    {
      "cell_type": "code",
      "source": [
        "%%writefile FizzBuzz.cpp\n",
        "// program to demonstrate use of access specifiers\n",
        "// here we can say that cuboid (child class) IS A rectangle (parent class)\n",
        "// lets say a class table in which it has an object of class rectangle. here we can say that table HAS A rectangle\n",
        "// A class can have three types of access specifiers : 1. public\n",
        "//                                                     2. private\n",
        "//                                                     3. protected\n",
        "// a class can be used in only 2 ways either an object can be made of it or some other class can inherit from it\n",
        "// private data members cannot be accessed by child class or objects\n",
        "// protected data members cannot be accessed by objects but can be accessed by child classes\n",
        "// inside the same class all access modifiers can be accessed\n",
        "// if the child class is protected then the public and protected from parent class becomes protected in child class\n",
        "// protected means you will be able to access everything (provided you are inheriting) but now you cannot give the data further down\n",
        "// there is only one type of inheritance in java\n",
        "# include<iostream>\n",
        "using namespace std;\n",
        "class base{\n",
        "    private:\n",
        "    int a;\n",
        "\n",
        "    protected:\n",
        "    int b;\n",
        "\n",
        "    public:\n",
        "    int c;\n",
        "    void funbase(){\n",
        "      a = 10;\n",
        "      b = 20;\n",
        "      c = 30;\n",
        "    }\n",
        "};\n",
        "class derived : base{\n",
        "    public:\n",
        "    void funderived(){\n",
        "      //a = 1; //private data members cannot be accessed\n",
        "        b = 2;\n",
        "        c = 3;\n",
        "    }\n",
        "};\n",
        "int main(){\n",
        "    base x;\n",
        "    // x.a = 100; // in object we cannot access private data members\n",
        "    // x.b = 200;  // in object we cannot access protected data members\n",
        "    x.c = 300;\n",
        "    return 0;\n",
        "}"
      ],
      "metadata": {
        "colab": {
          "base_uri": "https://localhost:8080/"
        },
        "id": "d8wkU88kiN-M",
        "outputId": "17bfaf8b-3924-4529-dbe4-18141b82112f"
      },
      "execution_count": null,
      "outputs": [
        {
          "output_type": "stream",
          "name": "stdout",
          "text": [
            "Overwriting FizzBuzz.cpp\n"
          ]
        }
      ]
    },
    {
      "cell_type": "code",
      "source": [
        "%%shell\n",
        "g++ FizzBuzz.cpp -o output\n",
        "./output"
      ],
      "metadata": {
        "colab": {
          "base_uri": "https://localhost:8080/"
        },
        "id": "y70KjVX-n5av",
        "outputId": "e2a2a900-59ca-4f13-a106-c670d56ccf6c"
      },
      "execution_count": null,
      "outputs": [
        {
          "output_type": "execute_result",
          "data": {
            "text/plain": [
              ""
            ]
          },
          "metadata": {},
          "execution_count": 34
        }
      ]
    },
    {
      "cell_type": "markdown",
      "source": [
        "TYPES OF INHERITANCES  \n",
        "1. simple/single inheritance:  |A|<----- |B|\n",
        "2. heirarchial inheritance: |A|<-------|B|,|C|,|D| (more than one child class)\n",
        "3. multilevel inheritance: |A|<----|B|<----|C|\n",
        "4. multiple inheritance |A|,|B| <-------|C| (more than 1 parent class)  \n",
        "5. multipath inheritance |A| <-----|B|,|C|<------|D| (more than one way to inherit) (it is a hybrid of heirarchial and multiple inheritance)  \n",
        "Now here we are having ambiguity of how to call the function of A (via A or B?)   \n",
        "To solve this we have the concept of virtual base classes  \n",
        "EX: syntax of virtual base class  \n",
        "class A{  \n",
        "  .  \n",
        "  .  \n",
        "};  \n",
        "class B: virtual public A{   // here B is called as virtual base class  \n",
        "  .  \n",
        "  .  \n",
        "};  \n",
        "class C: virtual public A{  // here C is called as virtual base class  \n",
        "  .  \n",
        "  .  \n",
        "};  \n",
        "class D: public B, public C{  \n",
        ".  \n",
        ".  \n",
        "};  \n",
        "\n",
        "\n",
        "JAVA does not have multiple inheritance  \n",
        "// program to demonstrate ways of inheritance  \n",
        "// if while defining a derived class if we do not mention any access modifier then by default it is PRIVATE\n"
      ],
      "metadata": {
        "id": "20vr_sP3qs_L"
      }
    },
    {
      "cell_type": "code",
      "source": [
        "%%writefile FizzBuzz.cpp\n",
        "// program to demonstrate base class pointer derived class object\n",
        "# include<iostream>\n",
        "using namespace std;\n",
        "class base{\n",
        "    public:\n",
        "    void greet(){\n",
        "        cout<<\"hello user\"<<endl;\n",
        "    }\n",
        "};\n",
        "class derived : public base{\n",
        "    public:\n",
        "    void display(){\n",
        "        cout<<\"namaste user\"<<endl;\n",
        "    }\n",
        "};\n",
        "int main(){\n",
        "    base *p; // pointer p is of base class\n",
        "    p = new derived(); // object p is of derived class\n",
        "    p->greet();\n",
        "    // p->display(); --> we cannot call this function it will give us an error even though the object is of derived class\n",
        "    // because the pointer is pointing to the base class\n",
        "\n",
        "    derived *d;\n",
        "    //d = new base(); --> this will give an error\n",
        "    d->greet();\n",
        "    d->display();\n",
        "    return 0;\n",
        "}"
      ],
      "metadata": {
        "colab": {
          "base_uri": "https://localhost:8080/"
        },
        "id": "uOcrB7BJqnE-",
        "outputId": "2ef28052-30c1-4f79-a069-58ab3a192159"
      },
      "execution_count": null,
      "outputs": [
        {
          "output_type": "stream",
          "name": "stdout",
          "text": [
            "Overwriting FizzBuzz.cpp\n"
          ]
        }
      ]
    },
    {
      "cell_type": "code",
      "source": [
        "%%shell\n",
        "g++ FizzBuzz.cpp -o output\n",
        "./output"
      ],
      "metadata": {
        "colab": {
          "base_uri": "https://localhost:8080/"
        },
        "id": "VHzTuo_oI1Sh",
        "outputId": "dc5fc4ba-0030-48de-c17b-674c3efb7680"
      },
      "execution_count": null,
      "outputs": [
        {
          "output_type": "stream",
          "name": "stdout",
          "text": [
            "hello user\n",
            "hello user\n",
            "namaste user\n"
          ]
        },
        {
          "output_type": "execute_result",
          "data": {
            "text/plain": [
              ""
            ]
          },
          "metadata": {},
          "execution_count": 18
        }
      ]
    },
    {
      "cell_type": "code",
      "source": [
        "%%writefile FizzBuzz.cpp\n",
        "// program to demonstrate function overriding in inheritance\n",
        "// in this situation it depends on the object's class\n",
        "# include<iostream>\n",
        "using namespace std;\n",
        "class base{\n",
        "    public:\n",
        "    void greet(){\n",
        "        cout<<\"hello user\"<<endl;\n",
        "    }\n",
        "};\n",
        "class derived : public base{\n",
        "    public:\n",
        "    void greet(){\n",
        "        cout<<\"namaste user\"<<endl;\n",
        "    }\n",
        "};\n",
        "int main(){\n",
        "    base p;\n",
        "    p.greet();\n",
        "    derived d;\n",
        "    d.greet();\n",
        "    return 0;\n",
        "}"
      ],
      "metadata": {
        "colab": {
          "base_uri": "https://localhost:8080/"
        },
        "id": "g4pBd4D9RdYo",
        "outputId": "504fa67d-c931-4cb5-f3f7-366cdd3a8201"
      },
      "execution_count": null,
      "outputs": [
        {
          "output_type": "stream",
          "name": "stdout",
          "text": [
            "Overwriting FizzBuzz.cpp\n"
          ]
        }
      ]
    },
    {
      "cell_type": "code",
      "source": [
        "%%shell\n",
        "g++ FizzBuzz.cpp -o output\n",
        "./output"
      ],
      "metadata": {
        "colab": {
          "base_uri": "https://localhost:8080/"
        },
        "id": "9et6kLteS2as",
        "outputId": "304531d2-d6e8-4ea1-dfd7-44f7716f595a"
      },
      "execution_count": null,
      "outputs": [
        {
          "output_type": "stream",
          "name": "stdout",
          "text": [
            "hello user\n",
            "namaste user\n"
          ]
        },
        {
          "output_type": "execute_result",
          "data": {
            "text/plain": [
              ""
            ]
          },
          "metadata": {},
          "execution_count": 22
        }
      ]
    },
    {
      "cell_type": "code",
      "source": [
        "%%writefile FizzBuzz.cpp\n",
        "// program to demonstrate virtual functions\n",
        "// in this situation it depends on the object's class\n",
        "// note virtual keyword can be used inside class only\n",
        "# include<iostream>\n",
        "using namespace std;\n",
        "class base{\n",
        "    public:\n",
        "    void greet(){\n",
        "        cout<<\"hello user\"<<endl;\n",
        "    }\n",
        "    virtual void display(){ // adding the keyword virtual, it allows us to override even a base/parent class function\n",
        "                            // the existence of this function is not real\n",
        "        cout<<\"HELLO\"<<endl;\n",
        "    }\n",
        "};\n",
        "class derived : public base{\n",
        "    public:\n",
        "    void greet(){\n",
        "        cout<<\"namaste user\"<<endl;\n",
        "    }\n",
        "    virtual void display(){  // no compulsion to write virtual here also\n",
        "        cout<<\"NAMASTE\"<<endl;\n",
        "    }\n",
        "};\n",
        "void display(){\n",
        "    cout<<\"HI\"<<endl;\n",
        "}\n",
        "int main(){\n",
        "\n",
        "    base *p = new derived();\n",
        "    p->greet();\n",
        "    p->display(); // when display function is called it will go to the base class display function but since virtual is written over there\n",
        "                  // it means it can be over rided and sine it is being over rided in the derived class so NAMASTE will be printed\n",
        "    // if virtual is written in derived class only and not in base class then when we call display function base class display would have been executed\n",
        "\n",
        "    display();\n",
        "    return 0;\n",
        "}"
      ],
      "metadata": {
        "colab": {
          "base_uri": "https://localhost:8080/"
        },
        "id": "UyW3q43DTmrj",
        "outputId": "986beea0-6579-40ba-fc25-f77f36798de1"
      },
      "execution_count": null,
      "outputs": [
        {
          "output_type": "stream",
          "name": "stdout",
          "text": [
            "Overwriting FizzBuzz.cpp\n"
          ]
        }
      ]
    },
    {
      "cell_type": "code",
      "source": [
        "%%shell\n",
        "g++ FizzBuzz.cpp -o output\n",
        "./output"
      ],
      "metadata": {
        "colab": {
          "base_uri": "https://localhost:8080/"
        },
        "id": "IszwgKfnT6ZC",
        "outputId": "c9010a4a-5879-4115-d9ae-1ec87caa03aa"
      },
      "execution_count": null,
      "outputs": [
        {
          "output_type": "stream",
          "name": "stdout",
          "text": [
            "hello user\n",
            "NAMASTE\n",
            "HI\n"
          ]
        },
        {
          "output_type": "execute_result",
          "data": {
            "text/plain": [
              ""
            ]
          },
          "metadata": {},
          "execution_count": 36
        }
      ]
    },
    {
      "cell_type": "code",
      "source": [
        "%%writefile FizzBuzz.cpp\n",
        "\n",
        "// program to demonstrate polymorphism and pure virtual function\n",
        "// pure virtual function means those functions must be over rided by derived class otherwise the derived class will become abstract\n",
        "// object cannot be created of an abstract class but can we create a pointer of that class\n",
        "// to achieve polymorphism we make some/all functions in base class as pure virtual functions (just for name sake so that they can be over ridden in child classes)\n",
        "// pure virtual function are useful for defining interface (means overall picture of a class)\n",
        "// if a class is having a pure virtual function then that class is called as ABSTRACT CLASS\n",
        "//  a base class in which all functions are pure virtual functions is called as an INTERFACE or ABSTRACT\n",
        "// a base class in which some of the functions are pure virtual functions is called as ABSTRACT class\n",
        "\n",
        "# include<iostream>\n",
        "using namespace std;\n",
        "class car{\n",
        "    public:\n",
        "    virtual void start() = 0;\n",
        "    virtual void stop() = 0;  // syntax for pure virtual function\n",
        "};\n",
        "class alto : public car{\n",
        "    public:\n",
        "    void start(){\n",
        "        cout<<\"ALTO STARTED\"<<endl;\n",
        "    }\n",
        "    void stop(){\n",
        "        cout<<\"ALTO STOPPED\"<<endl;\n",
        "    }\n",
        "};\n",
        "class nano : public car{\n",
        "    public:\n",
        "    void start(){\n",
        "        cout<<\"NANO STARTED\"<<endl;\n",
        "    }\n",
        "    void stop(){\n",
        "        cout<<\"NANO STOPPED\"<<endl;\n",
        "    }\n",
        "};\n",
        "\n",
        "int main(){\n",
        "    // car c; will give an error since object of an abstract class cannot be created\n",
        "    car *c = new alto();\n",
        "    c->start();\n",
        "    c->stop();\n",
        "    c = new nano();\n",
        "    c->start();\n",
        "    c->stop();\n",
        "    // here alto can also be called as a car and nano can also be called as a car\n",
        "\n",
        "    return 0;\n",
        "}"
      ],
      "metadata": {
        "colab": {
          "base_uri": "https://localhost:8080/"
        },
        "id": "Iz-YKrIjstHv",
        "outputId": "bd3eba18-a16f-4367-f551-1279695008fe"
      },
      "execution_count": null,
      "outputs": [
        {
          "output_type": "stream",
          "name": "stdout",
          "text": [
            "Overwriting FizzBuzz.cpp\n"
          ]
        }
      ]
    },
    {
      "cell_type": "code",
      "source": [
        "%%shell\n",
        "g++ FizzBuzz.cpp -o output\n",
        "./output"
      ],
      "metadata": {
        "colab": {
          "base_uri": "https://localhost:8080/"
        },
        "id": "zy7LtirmtzKB",
        "outputId": "bc5e3e4a-bb76-497d-f941-3db44fbac6b6"
      },
      "execution_count": null,
      "outputs": [
        {
          "output_type": "stream",
          "name": "stdout",
          "text": [
            "ALTO STARTED\n",
            "ALTO STOPPED\n",
            "NANO STARTED\n",
            "NANO STOPPED\n"
          ]
        },
        {
          "output_type": "execute_result",
          "data": {
            "text/plain": [
              ""
            ]
          },
          "metadata": {},
          "execution_count": 14
        }
      ]
    },
    {
      "cell_type": "markdown",
      "source": [
        "what is the purpose of inheritance?  \n",
        "-> 1. reusability of code (functions defined in base class can be used again in child class)  \n",
        "  2. to achieve polymorphism"
      ],
      "metadata": {
        "id": "KfNiCN3e0kvc"
      }
    },
    {
      "cell_type": "code",
      "source": [
        "%%writefile FizzBuzz.cpp\n",
        "// program to demonstrate friend function in Classes\n",
        "# include<iostream>\n",
        "using namespace std;\n",
        "class demo2; // we have to declare this before using friend function otherwise it will throw an error\n",
        "class demo1{\n",
        "  private:\n",
        "  int x=10;\n",
        "  protected:\n",
        "  int y=20;\n",
        "  public:\n",
        "  int z=30;\n",
        "  friend demo2; // using friend here will allow us to use private,protected and public data of this class to the class demo2\n",
        "};\n",
        "class demo2{\n",
        "    public:\n",
        "    demo1 d1;\n",
        "    void display(){\n",
        "       cout<<d1.x<<endl;\n",
        "       cout<<d1.y<<endl;\n",
        "       cout<<d1.z<<endl;\n",
        "    }\n",
        "};\n",
        "int main(){\n",
        "    demo2 d2;\n",
        "    d2.display();\n",
        "    return 0;\n",
        "}\n"
      ],
      "metadata": {
        "id": "7VymPdQwyTla",
        "colab": {
          "base_uri": "https://localhost:8080/"
        },
        "outputId": "4b87a796-9929-491d-f4fc-8ebf2bbdcdf1"
      },
      "execution_count": null,
      "outputs": [
        {
          "output_type": "stream",
          "name": "stdout",
          "text": [
            "Overwriting FizzBuzz.cpp\n"
          ]
        }
      ]
    },
    {
      "cell_type": "code",
      "source": [
        "%%shell\n",
        "g++ FizzBuzz.cpp -o output\n",
        "./output"
      ],
      "metadata": {
        "colab": {
          "base_uri": "https://localhost:8080/"
        },
        "id": "6sDlGnJGrONe",
        "outputId": "30f91441-7750-44b0-f721-0270274f0d38"
      },
      "execution_count": null,
      "outputs": [
        {
          "output_type": "stream",
          "name": "stdout",
          "text": [
            "10\n",
            "20\n",
            "30\n"
          ]
        },
        {
          "output_type": "execute_result",
          "data": {
            "text/plain": [
              ""
            ]
          },
          "metadata": {},
          "execution_count": 10
        }
      ]
    },
    {
      "cell_type": "code",
      "source": [
        "%%writefile FizzBuzz.cpp\n",
        "// program to demonstrate static members\n",
        "// static variables or static data members of a class belongs to a class and not to an object and all the objects can share it\n",
        "// when using a static member declare it outside the class too using scope resolution and the class in whichyou are using\n",
        "#include<iostream>\n",
        "using namespace std;\n",
        "class test{\n",
        "    private:\n",
        "    int a;\n",
        "    int b;\n",
        "    public:\n",
        "    static int count;  // syntax\n",
        "    test(){\n",
        "        a = 10;\n",
        "        b = 10;\n",
        "        count++;\n",
        "    }\n",
        "    static int getcount(){\n",
        "      //a++;\n",
        "      // return a --> error static functions can only access static data members or static variables\n",
        "      return count;\n",
        "    }\n",
        "};\n",
        "int test::count=0; //syntax\n",
        "int main(){\n",
        "    test t1;\n",
        "    test t2;\n",
        "    cout<<\"the initial value of count that is when no object of class test was created is: \"<<test::getcount()<<endl; // here we accessed getcount function without creating an object of the class\n",
        "    cout<<\"the value of count after first object was created is: \"<<t1.count<<endl;\n",
        "    cout<<\"the value of count after second object was created is: \"<<t2.getcount()<<endl;\n",
        "    cout<<\"the current value of count is: \"<<test::count<<endl; // here we accessed count variable without creating an object of the class\n",
        "    cout<<\"the final value of count that is after 2 objects of class test being created is: \"<<test::getcount()<<endl;\n",
        "    return 0;\n",
        "}"
      ],
      "metadata": {
        "colab": {
          "base_uri": "https://localhost:8080/"
        },
        "id": "io4jWnCAuNBb",
        "outputId": "4c9c9d8e-a871-4d78-bb60-3d88acd6a53a"
      },
      "execution_count": null,
      "outputs": [
        {
          "output_type": "stream",
          "name": "stdout",
          "text": [
            "Overwriting FizzBuzz.cpp\n"
          ]
        }
      ]
    },
    {
      "cell_type": "code",
      "source": [
        "%%shell\n",
        "g++ FizzBuzz.cpp -o output\n",
        "./output"
      ],
      "metadata": {
        "colab": {
          "base_uri": "https://localhost:8080/"
        },
        "id": "dtiy_mf5Tfon",
        "outputId": "87505e75-81ab-4703-a1a8-9da867b4cb4f"
      },
      "execution_count": null,
      "outputs": [
        {
          "output_type": "stream",
          "name": "stdout",
          "text": [
            "the initial value of count that is when no object of class test was created is: 2\n",
            "the value of count after first object was created is: 2\n",
            "the value of count after second object was created is: 2\n",
            "the current value of count is: 2\n",
            "the final value of count that is after 2 objects of class test being created is: 2\n"
          ]
        },
        {
          "output_type": "execute_result",
          "data": {
            "text/plain": [
              ""
            ]
          },
          "metadata": {},
          "execution_count": 8
        }
      ]
    },
    {
      "cell_type": "code",
      "source": [
        "%%writefile FizzBuzz.cpp\n",
        "// program to demonstrate nested classes\n",
        "# include<iostream>\n",
        "using namespace std;\n",
        "class outer{\n",
        "    public:\n",
        "    int a = 10;\n",
        "    static int b;\n",
        "\n",
        "    void display(){\n",
        "        cout<<\"HELLO\"<<endl;\n",
        "        i.greet();\n",
        "        cout<<\"the value of x (an inner class variable) is (being called from outer class) is: \"<<i.x<<endl;\n",
        "        // we cannot access private and protected members of the inner class\n",
        "        // cout<<i.y -->error\n",
        "        // cout<<i.z -->error\n",
        "    }\n",
        "\n",
        "    class inner{\n",
        "      private:\n",
        "      int y = 300;\n",
        "\n",
        "      protected:\n",
        "      int z = 3000;\n",
        "\n",
        "      public:\n",
        "      int x = 30;\n",
        "\n",
        "      void greet(){\n",
        "        cout<<\"WELCOME\"<<endl;\n",
        "        //cout<<a<<endl; -->error we can only access static data variables of another class in a nested class\n",
        "        cout<<\"value of b inside inner class which is nested in outer class is: \"<<b<<endl;\n",
        "      }\n",
        "    };\n",
        "\n",
        "    inner i; // this should be written for nested classes after the class definition\n",
        "    // this allows the outer class to access all members of the inner class\n",
        "};\n",
        "\n",
        "int outer::b = 20;\n",
        "int main(){\n",
        "    outer o1;\n",
        "    cout<<\"the value of a is: \"<<o1.a<<endl;\n",
        "    cout<<\"the value of static variable b is: \"<<outer::b<<endl;\n",
        "    cout<<\"the value of static variable b is: \"<<o1.b<<endl;\n",
        "    o1.display();\n",
        "    return 0;\n",
        "}"
      ],
      "metadata": {
        "id": "gbCWskysV4Mp",
        "colab": {
          "base_uri": "https://localhost:8080/"
        },
        "outputId": "c60dd0c2-0d1a-4ffc-9292-a07a285dd57e"
      },
      "execution_count": null,
      "outputs": [
        {
          "output_type": "stream",
          "name": "stdout",
          "text": [
            "Overwriting FizzBuzz.cpp\n"
          ]
        }
      ]
    },
    {
      "cell_type": "code",
      "source": [
        "%%shell\n",
        "g++ FizzBuzz.cpp -o output\n",
        "./output"
      ],
      "metadata": {
        "colab": {
          "base_uri": "https://localhost:8080/"
        },
        "id": "HZa6S6ROQb64",
        "outputId": "4d38dfd0-caad-4918-eb85-fcd7fce15dd8"
      },
      "execution_count": null,
      "outputs": [
        {
          "output_type": "stream",
          "name": "stdout",
          "text": [
            "the value of a is: 10\n",
            "the value of static variable b is: 20\n",
            "the value of static variable b is: 20\n",
            "HELLO\n",
            "WELCOME\n",
            "value of b inside inner class which is nested in outer class is: 20\n",
            "the value of x (an inner class variable) is (being called from outer class) is: 30\n"
          ]
        },
        {
          "output_type": "execute_result",
          "data": {
            "text/plain": [
              ""
            ]
          },
          "metadata": {},
          "execution_count": 19
        }
      ]
    },
    {
      "cell_type": "code",
      "source": [
        "%%writefile FizzBuzz.cpp\n",
        "// program to demonstrate exception handling\n",
        "// there are 3 types of exceptions in C++\n",
        "// 1. syntac error --> can be corrected with the help of compiler\n",
        "// 2. logical error --> can be corrected with the help of debugger\n",
        "//          the above 2 errors are faced by programmer\n",
        "// 3. runtime error --> suppose we need to input an integer but instead we gave char data type. this will give us runtime error\n",
        "// exceptions are handled using try and catch block in C++\n",
        "// if there is some error in any of the line in try block then the compiler will leave the try blow and go to catch block\n",
        "# include<iostream>\n",
        "using namespace std;\n",
        "int main(){\n",
        "    int a = 10, b = 0, c;\n",
        "    try{\n",
        "        if (b==0){\n",
        "            throw 101; // the below 2 lines are not executed because we used throw keyword here\n",
        "        }\n",
        "        c = a/b;\n",
        "        cout<<c<<endl;\n",
        "    }\n",
        "    catch(int e){\n",
        "        cout<<\"division by zero \"<<e<<endl;\n",
        "    }\n",
        "    cout<<\"BYE\"<<endl;\n",
        "    return 0;\n",
        "}"
      ],
      "metadata": {
        "colab": {
          "base_uri": "https://localhost:8080/"
        },
        "id": "ysqvpiIh6o01",
        "outputId": "da61ce88-7e05-43e6-9a86-ae60ab689438"
      },
      "execution_count": null,
      "outputs": [
        {
          "output_type": "stream",
          "name": "stdout",
          "text": [
            "Overwriting FizzBuzz.cpp\n"
          ]
        }
      ]
    },
    {
      "cell_type": "code",
      "source": [
        "%%shell\n",
        "g++ FizzBuzz.cpp -o output\n",
        "./output"
      ],
      "metadata": {
        "colab": {
          "base_uri": "https://localhost:8080/"
        },
        "id": "cSzk__YfQFWv",
        "outputId": "af2b09fd-a57a-4398-afdf-ed661ab2df6c"
      },
      "execution_count": null,
      "outputs": [
        {
          "output_type": "stream",
          "name": "stdout",
          "text": [
            "division by zero 101\n",
            "BYE\n"
          ]
        },
        {
          "output_type": "execute_result",
          "data": {
            "text/plain": [
              ""
            ]
          },
          "metadata": {},
          "execution_count": 8
        }
      ]
    },
    {
      "cell_type": "code",
      "source": [
        "%%writefile FizzBuzz.cpp\n",
        "// program to demonstrate exception handling using functions (real use)\n",
        "// exception is a built in class of C++\n",
        "// we can have multiple catch blocks that is if in try block there are 2 exceptions one of int type and another of float type then\n",
        "// we can define catch(int e) and catch(float f) outside the try block\n",
        "// suppose we dont know what type of exception it is so we can use catch(...){also called as catch all} {...->called as ellipse}\n",
        "// remember catch(...) block should be written at last otherwise all exceptions will be handled by this only\n",
        "# include<iostream>\n",
        "using namespace std;\n",
        "\n",
        "//class myexception : public exception{}\n",
        "//.\n",
        "//.\n",
        "//.\n",
        "//}\n",
        "\n",
        "int division(int x , int y){ // here we can also write int division(int x, int y) throw (myexception) it means that this function will throw an error myexception\n",
        "                             // if we write int division(int x, int y) throw() it means that this function is not throwing any exception means no throw keyword should be used inside this function\n",
        "    if (y==0){\n",
        "        throw 'e'; // we can write throw -1.5, throw 4.5f, throw 'a', throw \"string\" but then we have to adjust the datatype in catch\n",
        "                   // we can also throw a class like throw myexception class\n",
        "    return x/y;\n",
        "    }\n",
        "}\n",
        "int main(){\n",
        "    int a = 10, b = 0, c;\n",
        "    try{\n",
        "      c = division(a,b);\n",
        "      cout<<c<<endl;\n",
        "    }\n",
        "    catch (char e){ // here we wrote char because throw is of char data type\n",
        "      cout<<\"division by zero \"<<e<<endl;\n",
        "    }\n",
        "    catch(...){  // to run this catch block write -1 instead of e in division function\n",
        "                 // since we have not defined catch block for int it will go to catch(...) block\n",
        "        cout<<\"ERROR\"<<endl;\n",
        "    }\n",
        "    return 0;\n",
        "}"
      ],
      "metadata": {
        "colab": {
          "base_uri": "https://localhost:8080/"
        },
        "id": "wQAzLgvGg4F8",
        "outputId": "b7c7bc3e-2412-44c5-bbb6-ef458306f9b0"
      },
      "execution_count": null,
      "outputs": [
        {
          "output_type": "stream",
          "name": "stdout",
          "text": [
            "Overwriting FizzBuzz.cpp\n"
          ]
        }
      ]
    },
    {
      "cell_type": "code",
      "source": [
        "%%shell\n",
        "g++ FizzBuzz.cpp -o output\n",
        "./output"
      ],
      "metadata": {
        "colab": {
          "base_uri": "https://localhost:8080/"
        },
        "id": "KnvlHiLEhk42",
        "outputId": "1e348559-ac7b-4178-e9f6-36630efb84f3"
      },
      "execution_count": null,
      "outputs": [
        {
          "output_type": "stream",
          "name": "stdout",
          "text": [
            "ERROR\n"
          ]
        },
        {
          "output_type": "execute_result",
          "data": {
            "text/plain": [
              ""
            ]
          },
          "metadata": {},
          "execution_count": 15
        }
      ]
    },
    {
      "cell_type": "markdown",
      "source": [
        "child exception class needs to be written first followed by the parent class  \n",
        "ex: class myexception1{  \n",
        "  .  \n",
        "  .  \n",
        "};  \n",
        "class myexception2 : public myexception1{  \n",
        ".  \n",
        ".  \n",
        "};  \n",
        "try{  \n",
        "....  \n",
        "....  \n",
        "}  \n",
        "catch(myexception2 e){  // child class\n",
        "..  \n",
        "..\n",
        "};  \n",
        "catch(myexception1 e){  //parent class\n",
        "..   \n",
        "..  \n",
        "}"
      ],
      "metadata": {
        "id": "5x11jQkEpG5q"
      }
    },
    {
      "cell_type": "code",
      "source": [
        "%%writefile FizzBuzz.cpp\n",
        "// program to revise template\n",
        "# include<iostream>\n",
        "using namespace std;\n",
        "template <class t>\n",
        "t maximum(t x, t y){\n",
        "    return x>y?x:y;\n",
        "}\n",
        "int main(){\n",
        "    int i;\n",
        "    double d;\n",
        "    float f;\n",
        "    i = maximum(25,250);\n",
        "    d = maximum(20.05,20.005);\n",
        "    f = maximum(12.5f,12.5001f);\n",
        "    cout<<\"max among integers is: \"<<i<<endl;\n",
        "    cout<<\"max among doubles is: \"<<d<<endl;\n",
        "    cout<<\"max among floats is: \"<<f<<endl;\n",
        "    return 0;\n",
        "}"
      ],
      "metadata": {
        "colab": {
          "base_uri": "https://localhost:8080/"
        },
        "id": "zBeENKO3p-XG",
        "outputId": "72e3048c-7890-4c89-f5a7-a376e8ec8384"
      },
      "execution_count": null,
      "outputs": [
        {
          "output_type": "stream",
          "name": "stdout",
          "text": [
            "Overwriting FizzBuzz.cpp\n"
          ]
        }
      ]
    },
    {
      "cell_type": "code",
      "source": [
        "%%shell\n",
        "g++ FizzBuzz.cpp -o output\n",
        "./output"
      ],
      "metadata": {
        "colab": {
          "base_uri": "https://localhost:8080/"
        },
        "id": "-p6x73WlrlJX",
        "outputId": "e461cd5f-4e06-4893-9540-57497d259a5e"
      },
      "execution_count": null,
      "outputs": [
        {
          "output_type": "stream",
          "name": "stdout",
          "text": [
            "max among integers is: 250\n",
            "max among doubles is: 20.05\n",
            "max among floats is: 12.5001\n"
          ]
        },
        {
          "output_type": "execute_result",
          "data": {
            "text/plain": [
              ""
            ]
          },
          "metadata": {},
          "execution_count": 17
        }
      ]
    },
    {
      "cell_type": "code",
      "source": [
        "%%writefile FizzBuzz.cpp\n",
        "// program to demonstrate templates using multiple data types\n",
        "# include<iostream>\n",
        "using namespace std;\n",
        "template <class t,class r>\n",
        "void add(t x, r y){\n",
        "    cout<<\"addition is: \"<<x+y<<endl;\n",
        "}\n",
        "int main(){\n",
        "    add(12,2.5);\n",
        "    add(12.3f,12.2f);\n",
        "    add('c',12);\n",
        "    add('a',12.5f);\n",
        "    return 0;\n",
        "}"
      ],
      "metadata": {
        "colab": {
          "base_uri": "https://localhost:8080/"
        },
        "id": "Rgs1QKV-rtxR",
        "outputId": "eebaa943-e2ea-4b89-9bf0-0187c392d275"
      },
      "execution_count": null,
      "outputs": [
        {
          "output_type": "stream",
          "name": "stdout",
          "text": [
            "Overwriting FizzBuzz.cpp\n"
          ]
        }
      ]
    },
    {
      "cell_type": "code",
      "source": [
        "%%shell\n",
        "g++ FizzBuzz.cpp -o output\n",
        "./output"
      ],
      "metadata": {
        "colab": {
          "base_uri": "https://localhost:8080/"
        },
        "id": "PLeYuRPDsQ63",
        "outputId": "fab0447b-c4a4-46e0-e35a-d6635ed9a88c"
      },
      "execution_count": null,
      "outputs": [
        {
          "output_type": "stream",
          "name": "stdout",
          "text": [
            "addition is: 14.5\n",
            "addition is: 24.5\n",
            "addition is: 111\n",
            "addition is: 109.5\n"
          ]
        },
        {
          "output_type": "execute_result",
          "data": {
            "text/plain": [
              ""
            ]
          },
          "metadata": {},
          "execution_count": 26
        }
      ]
    },
    {
      "cell_type": "markdown",
      "source": [
        "using templates in a stack class  \n",
        "\n",
        "template<class t>  \n",
        "class stack{  \n",
        "{  \n",
        "  private:  \n",
        "  t s[10];  \n",
        "  int top;  \n",
        "\n",
        "  public:  \n",
        "  void push(t,x);  \n",
        "  t pop();  \n",
        "};  \n",
        "template <class t>\n",
        "void stack<t> :: push(t,x)  \n",
        "{  \n",
        "...  \n",
        "...   \n",
        "...  \n",
        "}  \n",
        "template <class t>  \n",
        "t stack <t> :: pop()  \n",
        "{  \n",
        "  ...  \n",
        "  ...  \n",
        "  ...  \n",
        "}  \n",
        "\n",
        "int main(){  \n",
        "  stack <int> s1;  \n",
        "  stack <float> s2;  \n",
        "  return 0;  \n",
        "}\n",
        "\n",
        "\n"
      ],
      "metadata": {
        "id": "POvVwUIWtmMI"
      }
    },
    {
      "cell_type": "code",
      "source": [
        "%%writefile FizzBuzz.cpp\n",
        "// program to demonstrate a stack class (of int data type)\n",
        "# include<iostream>\n",
        "using namespace std;\n",
        "class stack{\n",
        "    private:\n",
        "    int *stk;\n",
        "    int top;\n",
        "    int size;\n",
        "\n",
        "    public:\n",
        "    stack(int sz){\n",
        "        size = sz;\n",
        "        top = -1;\n",
        "        stk = new int[size];\n",
        "    }\n",
        "    void push(int x);\n",
        "    int pop();\n",
        "};\n",
        "void stack::push(int x){\n",
        "    if (top == size-1){\n",
        "      cout<<\"stack is full\"<<endl;\n",
        "    }\n",
        "    else{\n",
        "      top++;\n",
        "      stk[top] = x;\n",
        "    }\n",
        "}\n",
        "int stack :: pop(){\n",
        "    int x = 0;\n",
        "    if (top == -1){\n",
        "      cout<<\"stack is empty\"<<endl;\n",
        "    }\n",
        "    else{\n",
        "        x = stk[top];\n",
        "        top--;\n",
        "    }\n",
        "    return x;\n",
        "}\n",
        "int main(){\n",
        "    stack s(10);\n",
        "    s.push(10);\n",
        "    s.push(20);\n",
        "    s.push(30);\n",
        "}"
      ],
      "metadata": {
        "colab": {
          "base_uri": "https://localhost:8080/"
        },
        "id": "AHMa8EORvZm1",
        "outputId": "126bd2ca-bda8-4e65-be19-9f6d7d859c37"
      },
      "execution_count": null,
      "outputs": [
        {
          "output_type": "stream",
          "name": "stdout",
          "text": [
            "Writing FizzBuzz.cpp\n"
          ]
        }
      ]
    },
    {
      "cell_type": "code",
      "source": [
        "%%shell\n",
        "g++ FizzBuzz.cpp -o output\n",
        "./output"
      ],
      "metadata": {
        "colab": {
          "base_uri": "https://localhost:8080/"
        },
        "id": "MhcxyMameKDI",
        "outputId": "ed6f8ee0-48da-49a7-a217-41b5609bdba5"
      },
      "execution_count": null,
      "outputs": [
        {
          "output_type": "execute_result",
          "data": {
            "text/plain": [
              ""
            ]
          },
          "metadata": {},
          "execution_count": 2
        }
      ]
    },
    {
      "cell_type": "code",
      "source": [
        "%%writefile FizzBuzz.cpp\n",
        "// program to demonstrate a generalized stack class\n",
        "# include<iostream>\n",
        "using namespace std;\n",
        "template <class t>\n",
        "class stack{\n",
        "    private:\n",
        "    t *stk;\n",
        "    int top;\n",
        "    int size;\n",
        "\n",
        "    public:\n",
        "    stack(int sz){\n",
        "        size = sz;\n",
        "        top = -1;\n",
        "        stk = new t[size];\n",
        "    }\n",
        "    void push(t x);\n",
        "    t pop();\n",
        "};\n",
        "template <class t>\n",
        "void stack<t>::push(t x){\n",
        "    if (top == size-1){\n",
        "      cout<<\"stack is full\"<<endl;\n",
        "    }\n",
        "    else{\n",
        "      top++;\n",
        "      stk[top] = x;\n",
        "    }\n",
        "}\n",
        "template <class t>\n",
        "t stack<t> :: pop(){\n",
        "    t x = 0;\n",
        "    if (top == -1){\n",
        "      cout<<\"stack is empty\"<<endl;\n",
        "    }\n",
        "    else{\n",
        "        x = stk[top];\n",
        "        top--;\n",
        "    }\n",
        "    return x;\n",
        "}\n",
        "int main(){\n",
        "    stack <int> s(10);\n",
        "    s.push(10);\n",
        "    s.push(20);\n",
        "    s.push(30);\n",
        "}"
      ],
      "metadata": {
        "colab": {
          "base_uri": "https://localhost:8080/"
        },
        "id": "xsah7mh3eMTV",
        "outputId": "884f2f87-af24-4804-9ceb-368cd153fd8c"
      },
      "execution_count": null,
      "outputs": [
        {
          "output_type": "stream",
          "name": "stdout",
          "text": [
            "Overwriting FizzBuzz.cpp\n"
          ]
        }
      ]
    },
    {
      "cell_type": "code",
      "source": [
        "%%shell\n",
        "g++ FizzBuzz.cpp -o output\n",
        "./output"
      ],
      "metadata": {
        "colab": {
          "base_uri": "https://localhost:8080/"
        },
        "id": "dgMg1MLdeMvI",
        "outputId": "d98a7bba-e31c-41f4-9444-44411f446515"
      },
      "execution_count": null,
      "outputs": [
        {
          "output_type": "execute_result",
          "data": {
            "text/plain": [
              ""
            ]
          },
          "metadata": {},
          "execution_count": 6
        }
      ]
    },
    {
      "cell_type": "code",
      "source": [
        "%%writefile FizzBuzz.cpp\n",
        "// program to demonstrate constants\n",
        "// here x is a constant identifier\n",
        "// constant identifier cannot be modified throughout the program\n",
        "// ++*ptr; --> this means go to the address to which ptr is pointing and add +1 to its data\n",
        "// ptr = &y; --> this means ptr points to address of y\n",
        "\n",
        "    // there are 4 types of constants:\n",
        "    // 1. pointer can be a constant\n",
        "    // 2. data inside a pointer can be constant\n",
        "    // 3. data as well as pointer can be constant\n",
        "    // 4. variable can be constant\n",
        "\n",
        "# include<iostream>\n",
        "using namespace std;\n",
        "# define y 20 // we can also use this in place of const; this is preprocessor directive and it is performed before compilation starts\n",
        "              // it is a symbolic constant\n",
        "              // this will not consume memory\n",
        "              // this is not part of a language as it runs outside compiler\n",
        "\n",
        "// # define c cout // we can now write c<<x<<endl; this will be interpreted by compiler as cout<<x<<endl\n",
        "int main(){\n",
        "    const int x = 10;\n",
        "    // x++; --> will throw an error since x is a constant identifier\n",
        "    cout<<\"value of x (constant identifier) is: \"<<x<<endl;\n",
        "    cout<<\"value of y (symbolic constant) is: \"<<y<<endl;\n",
        "\n",
        "    int a = 30;\n",
        "    int *ptr = &a;\n",
        "    ++*ptr; // post increment operator\n",
        "    cout<<\"the value of a is: \"<<a<<endl;\n",
        "\n",
        "    // pointer to a constant\n",
        "    int b = 40;\n",
        "    const int *p = &b; // the same line can also be written as int const *p = &b\n",
        "    cout<<\"the value of b is: \"<<b<<endl;\n",
        "    cout<<\"the value of b using pointer is: \"<<*p<<endl;\n",
        "\n",
        "    int c = 100;\n",
        "    int const *ptr2 = &c; // here we cannot change the data\n",
        "    int d = 120;\n",
        "    cout<<\"value of c is: \"<<c<<endl;\n",
        "    ptr2 = &d;\n",
        "    cout<<\"value of d using pointer is: \"<<*ptr2<<endl;\n",
        "\n",
        "    int e = 500;\n",
        "    int * const ptr3 = &e; // here ptr3 is constant it means we cannot usr ptr3 now to point to another variable\n",
        "    // ptr3 = &d; // will throw an error\n",
        "    cout<<\"the value of e using pointer is: \"<<*ptr3<<endl;\n",
        "\n",
        "    const int * const ptr4 = &e; // now pointer as well as data is constant\n",
        "    cout<<\"the value of e using pointer is: \"<<*ptr4<<endl;\n",
        "\n",
        "    return 0;\n",
        "}\n"
      ],
      "metadata": {
        "colab": {
          "base_uri": "https://localhost:8080/"
        },
        "id": "L4OLC_QHgkko",
        "outputId": "4fae4c7a-4565-41d4-d089-021243268d8c"
      },
      "execution_count": null,
      "outputs": [
        {
          "output_type": "stream",
          "name": "stdout",
          "text": [
            "Overwriting FizzBuzz.cpp\n"
          ]
        }
      ]
    },
    {
      "cell_type": "code",
      "source": [
        "%%shell\n",
        "g++ FizzBuzz.cpp -o output\n",
        "./output"
      ],
      "metadata": {
        "colab": {
          "base_uri": "https://localhost:8080/"
        },
        "id": "jTZyEMZNk5RA",
        "outputId": "8dd5ffb0-95c9-419c-8d85-4d45a43ce0cf"
      },
      "execution_count": null,
      "outputs": [
        {
          "output_type": "stream",
          "name": "stdout",
          "text": [
            "value of x (constant identifier) is: 10\n",
            "value of y (symbolic constant) is: 20\n",
            "the value of a is: 31\n",
            "the value of b is: 40\n",
            "the value of b using pointer is: 40\n",
            "value of c is: 100\n",
            "value of d using pointer is: 120\n",
            "the value of e using pointer is: 500\n",
            "the value of e using pointer is: 500\n"
          ]
        },
        {
          "output_type": "execute_result",
          "data": {
            "text/plain": [
              ""
            ]
          },
          "metadata": {},
          "execution_count": 32
        }
      ]
    },
    {
      "cell_type": "code",
      "source": [
        "%%writefile FizzBuzz.cpp\n",
        "// program to demonstrate const in functions\n",
        "# include<iostream>\n",
        "using namespace std;\n",
        "class demo{\n",
        "    public:\n",
        "    int x = 10;\n",
        "    int y = 20;\n",
        "    void display() const{\n",
        "        // x++; --> this will throw an error because this function will not allow us to change any values of the class data members\n",
        "        int a = 2;\n",
        "        a++;\n",
        "        cout<<\"the values of x and y are: \"<<x<<\" and \"<<y<<endl;\n",
        "    }\n",
        "};\n",
        "\n",
        "void fun (const int &m, int &n){ // it means m cannot be modified inside this function\n",
        "    //m++; --> will throw an error\n",
        "    n++;\n",
        "    cout<<\"the values of m and n are: \"<<m<<\" and \"<<n<<endl;\n",
        "}\n",
        "int main(){\n",
        "    demo d;\n",
        "    d.display();\n",
        "    int a = 100, b = 200;\n",
        "    fun(a,b);\n",
        "    return 0;\n",
        "}"
      ],
      "metadata": {
        "colab": {
          "base_uri": "https://localhost:8080/"
        },
        "id": "Dfj8NPZornau",
        "outputId": "5e57e8f1-3882-4af8-96d4-fdd232b7bfd8"
      },
      "execution_count": null,
      "outputs": [
        {
          "output_type": "stream",
          "name": "stdout",
          "text": [
            "Overwriting FizzBuzz.cpp\n"
          ]
        }
      ]
    },
    {
      "cell_type": "code",
      "source": [
        "%%shell\n",
        "g++ FizzBuzz.cpp -o output\n",
        "./output"
      ],
      "metadata": {
        "colab": {
          "base_uri": "https://localhost:8080/"
        },
        "id": "Xs6OnWOTsKNV",
        "outputId": "c385c482-2eca-4d0e-ec7c-619e46b24a89"
      },
      "execution_count": null,
      "outputs": [
        {
          "output_type": "stream",
          "name": "stdout",
          "text": [
            "the values of x and y are: 10 and 20\n",
            "the values of m and n are: 100 and 201\n"
          ]
        },
        {
          "output_type": "execute_result",
          "data": {
            "text/plain": [
              ""
            ]
          },
          "metadata": {},
          "execution_count": 40
        }
      ]
    },
    {
      "cell_type": "code",
      "source": [
        "%%writefile FizzBuzz.cpp\n",
        "// using pre processor directives in FUNCTIONS\n",
        "# include<iostream>\n",
        "using namespace std;\n",
        "# define sqr(x) (x*x)\n",
        "# define msg(x) # x  // converts x to string\n",
        "# ifndef // read as if not defined\n",
        "    # define pi 3.145 // if pi is defined earlier then it will not be defined again\n",
        "# endif\n",
        "int main(){\n",
        "    int x = 25;\n",
        "    int sq = sqr(x);\n",
        "    cout<<\"square of the number is: \"<<sq<<endl;\n",
        "    cout<<\"square of the number is: \"<<sqr(5)<<endl;\n",
        "    cout<<msg(hello abhishek)<<endl;\n",
        "    return 0;\n",
        "}"
      ],
      "metadata": {
        "colab": {
          "base_uri": "https://localhost:8080/"
        },
        "id": "iWSzwqVp-Gzt",
        "outputId": "9a17f817-b233-4efc-a9bc-bd6754ab30cd"
      },
      "execution_count": null,
      "outputs": [
        {
          "output_type": "stream",
          "name": "stdout",
          "text": [
            "Overwriting FizzBuzz.cpp\n"
          ]
        }
      ]
    },
    {
      "cell_type": "code",
      "source": [
        "%%shell\n",
        "g++ FizzBuzz.cpp -o output\n",
        "./output"
      ],
      "metadata": {
        "colab": {
          "base_uri": "https://localhost:8080/"
        },
        "id": "_-jPRxD-BWpH",
        "outputId": "5ece64ba-e977-4254-9ada-62371ede0c40"
      },
      "execution_count": null,
      "outputs": [
        {
          "output_type": "stream",
          "name": "stdout",
          "text": [
            "square of the number is: 625\n",
            "square of the number is: 25\n",
            "hello abhishek\n"
          ]
        },
        {
          "output_type": "execute_result",
          "data": {
            "text/plain": [
              ""
            ]
          },
          "metadata": {},
          "execution_count": 46
        }
      ]
    },
    {
      "cell_type": "code",
      "source": [
        "%%writefile FizzBuzz.cpp\n",
        "// program to demonstrate use of namespaces\n",
        "// namespaces are used when we have to deal with 2 functions of same name\n",
        "# include<iostream>\n",
        "using namespace std;\n",
        "namespace first{\n",
        "    void fun(){\n",
        "      cout<<\"first\"<<endl;\n",
        "    }\n",
        "}\n",
        "namespace second{\n",
        "    void fun(){\n",
        "      cout<<\"second\"<<endl;\n",
        "    }\n",
        "}\n",
        "using namespace first;\n",
        "int main(){\n",
        "    fun(); // default namespace is first since we have defined it before main function\n",
        "    second::fun();\n",
        "    return 0;\n",
        "}"
      ],
      "metadata": {
        "colab": {
          "base_uri": "https://localhost:8080/"
        },
        "id": "JrWOl_B7GYg6",
        "outputId": "eb6322c3-743e-4621-8240-37516df813b7"
      },
      "execution_count": null,
      "outputs": [
        {
          "output_type": "stream",
          "name": "stdout",
          "text": [
            "Overwriting FizzBuzz.cpp\n"
          ]
        }
      ]
    },
    {
      "cell_type": "code",
      "source": [
        "%%shell\n",
        "g++ FizzBuzz.cpp -o output\n",
        "./output"
      ],
      "metadata": {
        "colab": {
          "base_uri": "https://localhost:8080/"
        },
        "id": "Htlsh1GvHEzY",
        "outputId": "61fc6eab-b5dc-4afd-d832-547faa2a38cc"
      },
      "execution_count": null,
      "outputs": [
        {
          "output_type": "stream",
          "name": "stdout",
          "text": [
            "first\n",
            "second\n"
          ]
        },
        {
          "output_type": "execute_result",
          "data": {
            "text/plain": [
              ""
            ]
          },
          "metadata": {},
          "execution_count": 50
        }
      ]
    },
    {
      "cell_type": "code",
      "source": [
        "%%writefile FizzBuzz.cpp\n",
        "// program to demonstrate destructors\n",
        "// constructor is used for acquiring resources\n",
        "// destructor is used for deleting/ releasing resources\n",
        "// we can habe multiple constructors but only a single destructor\n",
        "// a constructor and a destructor cannot written anything\n",
        "// a destructor can be virtual also\n",
        "# include<iostream>\n",
        "using namespace std;\n",
        "class test{\n",
        "    public:\n",
        "    test(){\n",
        "        cout<<\"test class created\"<<endl;\n",
        "    }\n",
        "    ~test(){ // syntax for destructor\n",
        "        cout<<\"test class destroyed\"<<endl;\n",
        "    }\n",
        "};\n",
        "int main(){\n",
        "    test *p = new test();\n",
        "    delete p;\n",
        "    return 0;\n",
        "}"
      ],
      "metadata": {
        "colab": {
          "base_uri": "https://localhost:8080/"
        },
        "id": "QSCUPpL8KLVw",
        "outputId": "cf4c8ac3-a3c6-4124-fca9-41da0ab73dfb"
      },
      "execution_count": null,
      "outputs": [
        {
          "output_type": "stream",
          "name": "stdout",
          "text": [
            "Overwriting FizzBuzz.cpp\n"
          ]
        }
      ]
    },
    {
      "cell_type": "code",
      "source": [
        "%%shell\n",
        "g++ FizzBuzz.cpp -o output\n",
        "./output"
      ],
      "metadata": {
        "colab": {
          "base_uri": "https://localhost:8080/"
        },
        "id": "-UMm0UCWKvwT",
        "outputId": "83cbb44d-f3e4-416e-b2b3-ade2a9fcadd9"
      },
      "execution_count": null,
      "outputs": [
        {
          "output_type": "stream",
          "name": "stdout",
          "text": [
            "test class created\n",
            "test class destroyed\n"
          ]
        },
        {
          "output_type": "execute_result",
          "data": {
            "text/plain": [
              ""
            ]
          },
          "metadata": {},
          "execution_count": 52
        }
      ]
    },
    {
      "cell_type": "code",
      "source": [
        "%%writefile FizzBuzz.cpp\n",
        "// program to demonstrate virtual destructors\n",
        "# include<iostream>\n",
        "using namespace std;\n",
        "class base{\n",
        "    public:\n",
        "    base(){\n",
        "        cout<<\"base constructor\"<<endl;\n",
        "    }\n",
        "    virtual ~base(){\n",
        "        cout<<\"base destructor\"<<endl;\n",
        "    }\n",
        "};\n",
        "class derived : public base{\n",
        "    public:\n",
        "    derived(){\n",
        "      cout<<\"derived constructor\"<<endl;\n",
        "    }\n",
        "    ~derived(){\n",
        "      cout<<\"derived destructor\"<<endl;\n",
        "    }\n",
        "};\n",
        "int main(){\n",
        "    derived d; // once the main function ends object will be destroyed so ~derived will be implemented first followed by ~base\n",
        "    base *p = new derived();\n",
        "    delete p; // at the end of this line base destructor will only be printed since p is a pointer of base class\n",
        "    // to call destructor of virtual class also use virtual in front of base destructor\n",
        "    // now destructor of derived class is called first then of base class is called\n",
        "    cout<<endl;\n",
        "    return 0;\n",
        "}"
      ],
      "metadata": {
        "colab": {
          "base_uri": "https://localhost:8080/"
        },
        "id": "zY64VayFL_Gg",
        "outputId": "1b0e6608-e081-443f-d29a-43515ba77143"
      },
      "execution_count": null,
      "outputs": [
        {
          "output_type": "stream",
          "name": "stdout",
          "text": [
            "Overwriting FizzBuzz.cpp\n"
          ]
        }
      ]
    },
    {
      "cell_type": "code",
      "source": [
        "%%shell\n",
        "g++ FizzBuzz.cpp -o output\n",
        "./output"
      ],
      "metadata": {
        "colab": {
          "base_uri": "https://localhost:8080/"
        },
        "id": "yZsDguVLQJes",
        "outputId": "c610a032-48d2-4a4f-f25d-4d1bf2efd59a"
      },
      "execution_count": null,
      "outputs": [
        {
          "output_type": "stream",
          "name": "stdout",
          "text": [
            "base constructor\n",
            "derived constructor\n",
            "base constructor\n",
            "derived constructor\n",
            "derived destructor\n",
            "base destructor\n",
            "\n",
            "derived destructor\n",
            "base destructor\n"
          ]
        },
        {
          "output_type": "execute_result",
          "data": {
            "text/plain": [
              ""
            ]
          },
          "metadata": {},
          "execution_count": 71
        }
      ]
    },
    {
      "cell_type": "code",
      "source": [
        "%%writefile FizzBuzz.cpp\n",
        "// program to demonstrate file handling\n",
        "// stream is a flow of data or flow of characters\n",
        "// streams are used to access data from outside the program (from external sources)\n",
        "// for accessing data from outside world of a program we use streams\n",
        "// ex: iostream --> input output stream\n",
        "// ifstream --> input file stream; ofstream --> output file stream\n",
        "# include<fstream> // file stream\n",
        "# include<iostream>\n",
        "using namespace std;\n",
        "int main(){\n",
        "    // creating a file\n",
        "    ofstream outfile(\"myfile.txt\"); // if there is some data stored in myfile all the data will be deleted and new data will be inserted\n",
        "\n",
        "    // if we want to append to the existing data then\n",
        "    // ofstream output file(\"myfile.txt\",ios::app)\n",
        "    // ios::trunc --> this is by default that is exiting data is deleted and now new data will be stored\n",
        "\n",
        "    // writing to a file\n",
        "    outfile<<\"hello\"<<endl;\n",
        "    outfile<<25<<endl;\n",
        "    outfile.close(); // closing the file\n",
        "\n",
        "    //reading from a file\n",
        "    // ios::in -->reading\n",
        "    // ios::out -->writing\n",
        "    // when we are reading from a file, the file must exist already\n",
        "    ifstream infile;\n",
        "    infile.open(\"myfile.txt\");\n",
        "    if(!infile){  // to check if the file is open or not\n",
        "        cout<<\"file cannot be opened\"<<endl;\n",
        "    }\n",
        "    //another way to check if file is open or not\n",
        "    // if(!infile.is_open()){\n",
        "    //    cout<<\"file cannot be opened\"<<endl;\n",
        "    //}\n",
        "    string str;  // since first line in file is string\n",
        "    int x;  // since second line in file is int\n",
        "    infile>>str;\n",
        "    infile>>x;\n",
        "    cout<<str<<endl;\n",
        "    cout<<x<<endl;\n",
        "\n",
        "    // to check if we have reached the end of the file or not\n",
        "    // eof --> end of file\n",
        "    if (infile.eof()){\n",
        "        cout<<\"end of file reached\"<<endl;\n",
        "        infile.close();\n",
        "    }\n",
        "\n",
        "\n",
        "    return 0;\n",
        "}"
      ],
      "metadata": {
        "colab": {
          "base_uri": "https://localhost:8080/"
        },
        "id": "mXuTByNBLCxl",
        "outputId": "963467f7-3752-4fa0-b54a-073df912c8bc"
      },
      "execution_count": null,
      "outputs": [
        {
          "output_type": "stream",
          "name": "stdout",
          "text": [
            "Overwriting FizzBuzz.cpp\n"
          ]
        }
      ]
    },
    {
      "cell_type": "code",
      "source": [
        "%%shell\n",
        "g++ FizzBuzz.cpp -o output\n",
        "./output"
      ],
      "metadata": {
        "colab": {
          "base_uri": "https://localhost:8080/"
        },
        "id": "XICuVmFOTTOB",
        "outputId": "e0a6edcc-aa1c-46fe-f31f-07e0d99b140c"
      },
      "execution_count": null,
      "outputs": [
        {
          "output_type": "stream",
          "name": "stdout",
          "text": [
            "hello\n",
            "25\n"
          ]
        },
        {
          "output_type": "execute_result",
          "data": {
            "text/plain": [
              ""
            ]
          },
          "metadata": {},
          "execution_count": 8
        }
      ]
    },
    {
      "cell_type": "code",
      "source": [
        "%%writefile FizzBuzz.cpp\n",
        "// program to demonstrate serialization (storing)\n",
        "// serialization is the process of storing and retreiving the state of an object\n",
        "// THERE IS SOME ERROR IN THIS CODE\n",
        "# include<iostream>\n",
        "# include<fstream>\n",
        "using namespace std;\n",
        "class student{\n",
        "    public:\n",
        "    string name;\n",
        "    int rollno;\n",
        "    string branch;\n",
        "    friend ofstream & operator<<(ofstream &ofs, Student &s);\n",
        "};\n",
        "ofstream & operator<<(ofstream &ofs, Student &s){\n",
        "    ofs<<s.name<<endl;\n",
        "    ofs<<s.rollno<<endl;\n",
        "    ofs<<s.branch<<endl;\n",
        "    return ofs;\n",
        "}\n",
        "int main(){\n",
        "    student s1;\n",
        "    s1.name = \"abhi\";\n",
        "    s1.rollno = 8;\n",
        "    s1.branch = \"ENTC\";\n",
        "    ofstream ofs(\"student.txt\",ios::trunc);\n",
        "    //ofs<<s1.name<<endl; // storing the state of object in a file\n",
        "    //ofs<<s1.rollno<<endl;\n",
        "    //ofs<<s1.branch<<endl;\n",
        "    ofs<<\"\\n\"<<endl;\n",
        "    ofs<<s1;\n",
        "    ofs.close();\n",
        "    return 0;\n",
        "}"
      ],
      "metadata": {
        "colab": {
          "base_uri": "https://localhost:8080/"
        },
        "id": "2x8Tdh2EssAf",
        "outputId": "b921677c-65cb-4ba9-e47d-f0b78907d382"
      },
      "execution_count": null,
      "outputs": [
        {
          "output_type": "stream",
          "name": "stdout",
          "text": [
            "Overwriting FizzBuzz.cpp\n"
          ]
        }
      ]
    },
    {
      "cell_type": "code",
      "source": [
        "%%writefile FizzBuzz.cpp\n",
        "// program to demonstrate serialization (retreiving)\n",
        "// serialization is the process of storing and retreiving the state of an object\n",
        "// THERE IS SOME ERROR IN THIS CODE\n",
        "# include<iostream>\n",
        "# include<fstream>\n",
        "using namespace std;\n",
        "class student{\n",
        "    public:\n",
        "    string name;\n",
        "    int rollno;\n",
        "    string branch;\n",
        "    friend ifstream & operator<<(ifstream &ifs, student &s);\n",
        "    friend ofstream & operator>>(ofstream &ofs, student &s);\n",
        "};\n",
        "ifstream & operator>>(ofstream &ifs, Student &s){\n",
        "    ifs>>s.name<<endl;\n",
        "    ifs>>s.rollno<<endl;\n",
        "    ifs>>s.branch<<endl;\n",
        "    return ifs;\n",
        "}\n",
        "ofstream & operator<<(ofstream &ofs, Student &s){\n",
        "    ofs<<s.name<<endl;\n",
        "    ofs<<s.rollno<<endl;\n",
        "    ofs<<s.branch<<endl;\n",
        "    return ofs;\n",
        "}\n",
        "int main(){\n",
        "    student s1;\n",
        "    s1.name = \"abhi\";\n",
        "    s1.rollno = 8;\n",
        "    s1.branch = \"ENTC\";\n",
        "    ofstream ofs(\"student.txt\",ios::trunc);\n",
        "    //ofs<<s1.name<<endl; // storing the state of object in a file\n",
        "    //ofs<<s1.rollno<<endl;\n",
        "    //ofs<<s1.branch<<endl;\n",
        "    ofs<<\"\\n\"<<endl;\n",
        "    ofs<<s1;\n",
        "    ofs.close();\n",
        "\n",
        "    ifstream ifs(\"student.txt\");\n",
        "    ifs>>s1;\n",
        "    cout<<\"name: \"<<s1.name<<endl;\n",
        "    cout<<\"rollno: \"<<s1.rollno<<endl;\n",
        "    cout<<\"branch: \"<<s1.branch<<endl;\n",
        "    ifs.close();\n",
        "    return 0;\n",
        "}"
      ],
      "metadata": {
        "colab": {
          "base_uri": "https://localhost:8080/"
        },
        "id": "aTn1RFJewjnk",
        "outputId": "8ae414a7-c805-4405-d271-f10ffdc2e1c1"
      },
      "execution_count": null,
      "outputs": [
        {
          "output_type": "stream",
          "name": "stdout",
          "text": [
            "Overwriting FizzBuzz.cpp\n"
          ]
        }
      ]
    },
    {
      "cell_type": "code",
      "source": [
        "%%shell\n",
        "g++ FizzBuzz.cpp -o output\n",
        "./output"
      ],
      "metadata": {
        "id": "h5Vtt7OZyMYA"
      },
      "execution_count": null,
      "outputs": []
    },
    {
      "cell_type": "code",
      "source": [
        "%%writefile FizzBuzz.cpp\n",
        "// in text file 23 is first converted into ASCII that is the ASCII code of 2 is 50 and that of 3 is 51\n",
        "// now binary of 50 and 51 is stored in the text file\n",
        "// in binary file binary of 23 is stored which is 00000000 00010111\n",
        "// when we open this text file every 8 bit binary is converted into its respective ASCII code and then displayed\n",
        "\n",
        "// manipulators are used for enhancing formatting streams\n",
        "// manipulators ex: endl;\n",
        "// for integer we have manipulators like hex -->(for number in hexadecimal), oct-->(for number in octal), dec-->(for number in decimal)\n",
        "// ex: cout<<hex<<163; --> output will be a3\n",
        "// for float we have manipulators like fixed,scientific\n",
        "// ex: cout<<fixed<<123.65 --> output will be 123.6500000 or 123.6500\n",
        "// ex: cout<<scientific<<123.54 --> output will be in exponent and mantissa form\n",
        "// other manipulators are: set(){setspace}, left(){left alignment}, right(){rigth alignment}, ws{wind space}\n",
        "// ex: cout<<set(10)<<\"hello\"; --> hellp will be displayed in 10 spaces\n",
        "// ex: cout<<20<<ws<<20; --> 10 and 20 will be displayed with some spaces in between\n",
        "\n",
        "# include<iostream>\n",
        "//# include<sstream> // used for ws\n",
        "# include<iomanip> // used for set\n",
        "using namespace std;\n",
        "int main(){\n",
        "    int a = 20, b = 10;\n",
        "    cout<<hex<<163<<endl;\n",
        "    cout<<fixed<<123.54<<endl;\n",
        "    cout<<scientific<<123.54<<endl;\n",
        "    cout<<setw(10)<<\"hello\"<<endl;\n",
        "    //cout<<a<<ws<<b<<endl;\n",
        "    return 0;\n",
        "}\n"
      ],
      "metadata": {
        "colab": {
          "base_uri": "https://localhost:8080/"
        },
        "id": "BbK33BN5zsrh",
        "outputId": "9170a2a2-8aeb-4aa1-93bf-421afbb9fd3c"
      },
      "execution_count": null,
      "outputs": [
        {
          "output_type": "stream",
          "name": "stdout",
          "text": [
            "Overwriting FizzBuzz.cpp\n"
          ]
        }
      ]
    },
    {
      "cell_type": "code",
      "source": [
        "%%shell\n",
        "g++ FizzBuzz.cpp -o output\n",
        "./output"
      ],
      "metadata": {
        "colab": {
          "base_uri": "https://localhost:8080/"
        },
        "id": "loWqmZ4f5AQU",
        "outputId": "70d523f3-e8d1-402e-b9df-518358cc4913"
      },
      "execution_count": null,
      "outputs": [
        {
          "output_type": "stream",
          "name": "stdout",
          "text": [
            "a3\n",
            "123.540000\n",
            "1.235400e+02\n",
            "     hello\n"
          ]
        },
        {
          "output_type": "execute_result",
          "data": {
            "text/plain": [
              ""
            ]
          },
          "metadata": {},
          "execution_count": 48
        }
      ]
    },
    {
      "cell_type": "code",
      "source": [
        "%%writefile FizzBuzz.cpp\n",
        "// program for STL (standard template library)\n",
        "// int a[10] --> created in stack\n",
        "// int *p = new int[10] -->created in heap(dynamically)\n",
        "// once an array is created its size cannot be changed\n",
        "// if we want to increase size of array: one common logic is:\n",
        "// int *a = new int[10];\n",
        "//.\n",
        "//.\n",
        "//.\n",
        "// a = new int [20];\n",
        "// another replacement for array can be linked list or double linked list (in linked list and double linked list size can be varied accordingly)\n",
        "// data structures: stack, queue, deque, priority queue, map, set\n",
        "// some of these data structures are already in STL library\n",
        "// container contains collection of classes like linked list, queue etc\n",
        "// to access data in a container, iterators are available\n",
        "// data structure available in a container (all of these are templates i.e generic)\n",
        "// 1.vector --> It is an array which can grow and reduce by itself.\n",
        "//            functions available: push_back() --> can insert an element at the end of the array\n",
        "//                               : pop_back() --> delete last element of an array\n",
        "//                               : insert()\n",
        "//                               : remove()\n",
        "//                               : size() --> size of array\n",
        "//                               : empty() --> returns bool; checks if array is empty or not\n",
        "//\n",
        "// 2.list (double linked list) --> same functions as that of array\n",
        "//        additonal functions: 1.push_front() --> adds element to the front\n",
        "//                           : 2.pop_front() -->removes first element\n",
        "//                           : 3.front() --> gives first element\n",
        "//                           : 4.back() --> gives last element\n",
        "// 3.forward_list (single linked list)\n",
        "// 4.deque (double ended queue) --> from both sides we can insert and delete\n",
        "//\n",
        "// LIST , FORWARD LIST and DEQUE have the same functions inside them\n",
        "//\n",
        "// 5.priority queue (for heap data structure) {always the largest element from the queue will be deleted} {also called as max heap}\n",
        "//            funcitons available: 1.push()\n",
        "//                               : 2.pop()\n",
        "//                               : 3.empty()\n",
        "//                               : 4.size()\n",
        "//\n",
        "// 6.stack (LIFO; same functions as priority queue)\n",
        "// 7.set (not oredered, all elements will be unique)\n",
        "// 8.multiset (same as set but allows duplicate)\n",
        "// 9.map (used for storing key value pair){just like dictionary in python} {it uses hash table, contains unique keys}\n",
        "// 10.multimap (same as map but here keys can be duplicated, but same key value pair should not be there)"
      ],
      "metadata": {
        "id": "S-YcfYHnOafH"
      },
      "execution_count": null,
      "outputs": []
    },
    {
      "cell_type": "code",
      "source": [
        "%%writefile FizzBuzz.cpp\n",
        "// program to demonstrate use of vectors\n",
        "// default size for a vector is 16\n",
        "// begin and end function is available in all containers\n",
        "# include<vector>\n",
        "# include<iostream>\n",
        "using namespace std;\n",
        "int main(){\n",
        "    //vector<int> v(12) // here 12 will be the size of the vector and vector array will store int data elements in it\n",
        "    vector<int> v={10,20,30,40};\n",
        "    v.push_back(90);\n",
        "    v.push_back(100);\n",
        "    v.pop_back();\n",
        "\n",
        "    // to display elements of v we can use for each block\n",
        "    for(int x: v){\n",
        "        cout<<x<<\" \";\n",
        "    }\n",
        "    cout<<endl;\n",
        "    // another method\n",
        "    vector<int>::iterator itr = v.begin();\n",
        "    for(itr=v.begin();itr!=v.end();itr++){\n",
        "        cout<<*itr<<\" \";  // we wrote *itr because itr is a type of pointer\n",
        "    }\n",
        "    return 0;\n",
        "}"
      ],
      "metadata": {
        "colab": {
          "base_uri": "https://localhost:8080/"
        },
        "id": "DtmIkY4fjlJ3",
        "outputId": "40b4f477-d6f4-4eb9-82a8-30faeffa685f"
      },
      "execution_count": null,
      "outputs": [
        {
          "output_type": "stream",
          "name": "stdout",
          "text": [
            "Overwriting FizzBuzz.cpp\n"
          ]
        }
      ]
    },
    {
      "cell_type": "code",
      "source": [
        "%%shell\n",
        "g++ FizzBuzz.cpp -o output\n",
        "./output"
      ],
      "metadata": {
        "colab": {
          "base_uri": "https://localhost:8080/"
        },
        "id": "A3P4MY0gmBGJ",
        "outputId": "e5b1b123-736c-4feb-b0af-3affc8b40ac1"
      },
      "execution_count": null,
      "outputs": [
        {
          "output_type": "stream",
          "name": "stdout",
          "text": [
            "10 20 30 40 90 \n",
            "10 20 30 40 90 "
          ]
        },
        {
          "output_type": "execute_result",
          "data": {
            "text/plain": [
              ""
            ]
          },
          "metadata": {},
          "execution_count": 6
        }
      ]
    },
    {
      "cell_type": "code",
      "source": [
        "%%writefile FizzBuzz.cpp\n",
        "// program to demonstrate use of list\n",
        "// default size for a vector is 16\n",
        "// begin and end function is available in all containers\n",
        "// similarly we can use forward list\n",
        "# include<list>\n",
        "# include<iostream>\n",
        "using namespace std;\n",
        "int main(){\n",
        "    //list<int> v(12) // here 12 will be the size of the vector and vector array will store int data elements in it\n",
        "    list<int> v={10,20,30,40};\n",
        "    v.push_back(90);\n",
        "    v.push_back(100);\n",
        "    v.pop_back();\n",
        "\n",
        "    // to display elements of v we can use for each block\n",
        "    for(int x: v){\n",
        "        cout<<x<<\" \";\n",
        "    }\n",
        "    cout<<endl;\n",
        "    // another method\n",
        "    list<int>::iterator itr = v.begin();\n",
        "    for(itr=v.begin();itr!=v.end();itr++){\n",
        "        cout<<*itr<<\" \";  // we wrote *itr because itr is a type of pointer\n",
        "    }\n",
        "    return 0;\n",
        "}"
      ],
      "metadata": {
        "colab": {
          "base_uri": "https://localhost:8080/"
        },
        "id": "h9fGj-wwmT34",
        "outputId": "62353f6a-2a7d-4223-ce7d-7a32176b6e26"
      },
      "execution_count": null,
      "outputs": [
        {
          "output_type": "stream",
          "name": "stdout",
          "text": [
            "Overwriting FizzBuzz.cpp\n"
          ]
        }
      ]
    },
    {
      "cell_type": "code",
      "source": [
        "%%shell\n",
        "g++ FizzBuzz.cpp -o output\n",
        "./output"
      ],
      "metadata": {
        "colab": {
          "base_uri": "https://localhost:8080/"
        },
        "id": "Tg-MGU9imk7_",
        "outputId": "c5e4f550-bd52-4efe-deed-ed0de3e922c8"
      },
      "execution_count": null,
      "outputs": [
        {
          "output_type": "stream",
          "name": "stdout",
          "text": [
            "10 20 30 40 90 \n",
            "10 20 30 40 90 "
          ]
        },
        {
          "output_type": "execute_result",
          "data": {
            "text/plain": [
              ""
            ]
          },
          "metadata": {},
          "execution_count": 8
        }
      ]
    },
    {
      "cell_type": "code",
      "source": [
        "%%writefile FizzBuzz.cpp\n",
        "// program to demonstrate use of map data structure\n",
        "# include<iostream>\n",
        "# include<map>\n",
        "using namespace std;\n",
        "int main(){\n",
        "    map<int,string> m;\n",
        "    m.insert(pair<int,string>(1,\"abhi\"));\n",
        "    m.insert(pair<int,string>(2,\"atishay\"));\n",
        "\n",
        "    map<int,string>::iterator itr;\n",
        "    for(itr = m.begin();itr!=m.end();itr++){\n",
        "        cout<<itr->first<<\" \"<<itr->second<<endl;\n",
        "    }\n",
        "\n",
        "    map<int,string>::iterator itr1;\n",
        "    itr1 = m.find(2);\n",
        "    cout<<itr1->first<<\" \"<<itr1->second<<endl;\n",
        "}"
      ],
      "metadata": {
        "colab": {
          "base_uri": "https://localhost:8080/"
        },
        "id": "yoOS2CGGn1TJ",
        "outputId": "2908484d-d57f-4844-ba18-ae3f403e05d8"
      },
      "execution_count": null,
      "outputs": [
        {
          "output_type": "stream",
          "name": "stdout",
          "text": [
            "Overwriting FizzBuzz.cpp\n"
          ]
        }
      ]
    },
    {
      "cell_type": "code",
      "source": [
        "%%shell\n",
        "g++ FizzBuzz.cpp -o output\n",
        "./output"
      ],
      "metadata": {
        "colab": {
          "base_uri": "https://localhost:8080/"
        },
        "id": "l78Y-1nKrTuw",
        "outputId": "caa1bf4b-0135-4d57-fe0a-ab6a36e88608"
      },
      "execution_count": null,
      "outputs": [
        {
          "output_type": "stream",
          "name": "stdout",
          "text": [
            "1 abhi\n",
            "2 atishay\n",
            "2 atishay\n"
          ]
        },
        {
          "output_type": "execute_result",
          "data": {
            "text/plain": [
              ""
            ]
          },
          "metadata": {},
          "execution_count": 16
        }
      ]
    },
    {
      "cell_type": "code",
      "source": [
        "%%writefile FizzBuzz.cpp\n",
        "// auto x = 2*5.7 + 'a';\n",
        "// cout<<x<<endl;\n",
        "// --------------------\n",
        "// auto x = fun() --> this will store the return of the function fun in x and x will become that datatype\n",
        "// decltype(y) z  = 12.3; --> it means that z will have the same data type as that of y\n",
        "// one usage of 'final' is it restricts inheritance\n",
        "// ex: class base final{\n",
        "//\n",
        "// }\n",
        "// class derived : base{} --> this will throw an error as base class cannot be parent to any class because of the use of 'final'\n",
        "// only virtual member functions can be marked final\n",
        "// ex:\n",
        "// class base{\n",
        "//    virtual void show() final{}\n",
        "// }\n",
        "// class derived:base{\n",
        "//    void show(){} --> error because now show function cannot be overriden\n",
        "// }\n"
      ],
      "metadata": {
        "id": "xll1mIpTUQ0g"
      },
      "execution_count": null,
      "outputs": []
    },
    {
      "cell_type": "code",
      "source": [
        "%%writefile FizzBuzz.cpp\n",
        "// program to demonstrate lambda functions\n",
        "// lambda functions are useful to define unnmaed functions\n",
        "// syntax is: [capture list](parameter list)->return type { body of the function}\n",
        "# include<iostream>\n",
        "using namespace std;\n",
        "int main(){\n",
        "  auto f = [](){cout<<\"hello\"<<endl;}; // this is syntax for defining function\n",
        "  f(); // another way to call lambda function\n",
        "\n",
        "  [](){cout<<\"hello user\"<<endl;}();  // this is syntax for defining and calling the function\n",
        "\n",
        "  [](int x, int y){cout<<\"sum is: \"<<x+y<<endl;}(10,100);\n",
        "\n",
        "  auto x = [](int x, int y){return x+y;}(10,2);\n",
        "  cout<<\"SUM IS: \"<<x<<endl;\n",
        "\n",
        "  int p = [](int x,int y)->int{return x+y;}(10,5);\n",
        "  cout<<\"total is: \"<<p<<endl;\n",
        "\n",
        "  int m = 23;\n",
        "  int n = 24;\n",
        "  [m,n](){cout<<m<<\" \"<<n<<endl;}();\n",
        "  //[m,n](){cout<<++m<<\" \"<<++n<<endl;}(); // we cannot modify the cpatured variables\n",
        "  [&m,&n](){cout<<++m<<\" \"<<++n<<endl;}(); // to modify the captured varizbles use reference\n",
        "\n",
        "  return 0;\n",
        "}"
      ],
      "metadata": {
        "colab": {
          "base_uri": "https://localhost:8080/"
        },
        "id": "_4MUfAJke7ib",
        "outputId": "0648ed3a-460d-49e5-be87-1756172e325f"
      },
      "execution_count": null,
      "outputs": [
        {
          "output_type": "stream",
          "name": "stdout",
          "text": [
            "Overwriting FizzBuzz.cpp\n"
          ]
        }
      ]
    },
    {
      "cell_type": "code",
      "source": [
        "%%shell\n",
        "g++ FizzBuzz.cpp -o output\n",
        "./output"
      ],
      "metadata": {
        "colab": {
          "base_uri": "https://localhost:8080/"
        },
        "id": "lRQJS0yofgwM",
        "outputId": "6c6ddd94-682c-4508-b8df-7b8043f3b64e"
      },
      "execution_count": null,
      "outputs": [
        {
          "output_type": "stream",
          "name": "stdout",
          "text": [
            "hello\n",
            "hello user\n",
            "sum is: 110\n",
            "SUM IS: 12\n",
            "total is: 15\n",
            "23 24\n",
            "24 25\n"
          ]
        },
        {
          "output_type": "execute_result",
          "data": {
            "text/plain": [
              ""
            ]
          },
          "metadata": {},
          "execution_count": 67
        }
      ]
    },
    {
      "cell_type": "code",
      "source": [
        "%%writefile FizzBuzz.cpp\n",
        "// program to demonstrate smart pointers\n",
        "// there are 3 types of smart pointers\n",
        "// 1. unique_ptr -- only one pointer can point to unique_ptr (upon an object at a time only one pointer will be pointing to it)\n",
        "// 2. shared_ptr -- (upon an object at a time more than one pointer will be pointing to it) here it will maintain a ref_counter (the no of pointers pointing to the object)\n",
        "//               -- TO KNOW THE NO OF POINTERS USE 'use_count()' function\n",
        "// 3. weak_ptr -- same as shared pointer but will not maintain a reference counter\n",
        "// example:\n",
        "// fun(){\n",
        "//    unique_ptr<rectangle>p1(new rectangle(10,5)) // this means that p1 is pointing to recatngle object and this pointer and object are inside unique_ptr\n",
        "//    cout<<p1->area()<<endl;\n",
        "//    cout<<p2->area()<<endl;\n",
        "// } // one use of using smart pointer is that we do not have to write delete ptr, the object gets deleted automatically if it goes out of scope\n",
        "//   // so no need to worry about memory leak problem\n",
        "// int main(){\n",
        "//    while(){\n",
        "//        fun();\n",
        "//    }\n",
        "// }"
      ],
      "metadata": {
        "id": "lLIBjesJ0yqz"
      },
      "execution_count": null,
      "outputs": []
    },
    {
      "cell_type": "code",
      "source": [
        "%%writefile FizzBuzz.cpp\n",
        "//one constructor can call another constructor within a same class (new feature of C++11)\n",
        "//ex:\n",
        "# include<iostream>\n",
        "using namespace std;\n",
        "class test{\n",
        "    int x = 10;\n",
        "    int y = 20;\n",
        "    public:\n",
        "    test(int a, int b){\n",
        "        x = a;\n",
        "        y = b;\n",
        "    }\n",
        "    int getx(){\n",
        "        return x;\n",
        "    }\n",
        "    int gety(){\n",
        "        return y;\n",
        "    }\n",
        "    test() : test(1,1){};\n",
        "};\n",
        "int main(){\n",
        "    test t1(2,4);\n",
        "    cout<<t1.getx()<<endl;\n",
        "    cout<<t1.gety()<<endl;\n",
        "\n",
        "    test t2;\n",
        "    cout<<t2.getx()<<endl;\n",
        "    cout<<t2.gety()<<endl;\n",
        "    return 0;\n",
        "}"
      ],
      "metadata": {
        "colab": {
          "base_uri": "https://localhost:8080/"
        },
        "id": "9Imj65U95chZ",
        "outputId": "4aa5ac1d-6acf-4297-beb4-2786b0ac63a0"
      },
      "execution_count": null,
      "outputs": [
        {
          "output_type": "stream",
          "name": "stdout",
          "text": [
            "Overwriting FizzBuzz.cpp\n"
          ]
        }
      ]
    },
    {
      "cell_type": "code",
      "source": [
        "%%shell\n",
        "g++ FizzBuzz.cpp -o output\n",
        "./output"
      ],
      "metadata": {
        "colab": {
          "base_uri": "https://localhost:8080/"
        },
        "id": "oZlaX-JQ6U22",
        "outputId": "5228cec1-bf7d-4e91-b2d2-aa064ae6e883"
      },
      "execution_count": null,
      "outputs": [
        {
          "output_type": "stream",
          "name": "stdout",
          "text": [
            "2\n",
            "4\n",
            "1\n",
            "1\n"
          ]
        },
        {
          "output_type": "execute_result",
          "data": {
            "text/plain": [
              ""
            ]
          },
          "metadata": {},
          "execution_count": 12
        }
      ]
    },
    {
      "cell_type": "code",
      "source": [
        "%%writefile FizzBuzz.cpp\n",
        "// ellipsis is used to take multiple no of arguments in a function\n",
        "// ... --> is a symbol of ellipsis\n",
        "// printf and scanf of C language are examples of ellipsis\n",
        "# include<iostream>\n",
        "# include<cstdarg>\n",
        "using namespace std;\n",
        "int sum(int n, ...){   // the 3 dots(...) represents variable number of arguments , n means the no of parameters we are passing\n",
        "                      //so when ever we are passing arguments to this function the first parameter should tell us the no of parameters passed down to this function\n",
        "    va_list list;\n",
        "    va_start(list,n);\n",
        "    int x;\n",
        "    int s = 0;\n",
        "    for(int i = 0; i<n; i++){\n",
        "        x = va_arg(list,int);\n",
        "        s += x;\n",
        "    }\n",
        "    va_end(list);\n",
        "    return s;\n",
        "}\n",
        "int main(){\n",
        "    cout<<sum(3,10,20,30)<<endl;\n",
        "    cout<<sum(2,10,20)<<endl;\n",
        "    cout<<sum(1,10)<<endl;\n",
        "    return 0;\n",
        "}"
      ],
      "metadata": {
        "colab": {
          "base_uri": "https://localhost:8080/"
        },
        "id": "Bkqs5kh06aTy",
        "outputId": "8fad8832-eaa8-42a0-cdca-d363db96d213"
      },
      "execution_count": null,
      "outputs": [
        {
          "output_type": "stream",
          "name": "stdout",
          "text": [
            "Overwriting FizzBuzz.cpp\n"
          ]
        }
      ]
    },
    {
      "cell_type": "code",
      "source": [
        "%%shell\n",
        "g++ FizzBuzz.cpp -o output\n",
        "./output"
      ],
      "metadata": {
        "colab": {
          "base_uri": "https://localhost:8080/"
        },
        "id": "jlqIY_FA8SgA",
        "outputId": "ee823a3b-8d23-4361-e7f8-566d98a566e9"
      },
      "execution_count": null,
      "outputs": [
        {
          "output_type": "stream",
          "name": "stdout",
          "text": [
            "60\n",
            "30\n",
            "10\n"
          ]
        },
        {
          "output_type": "execute_result",
          "data": {
            "text/plain": [
              ""
            ]
          },
          "metadata": {},
          "execution_count": 30
        }
      ]
    },
    {
      "cell_type": "code",
      "source": [
        "// octal --> 0,1,2,3,4,5,6,7,10,11,12,13,14,15,16,17,18,19,20 (we didnt write 8 and 9 becuase octal does not contain 8 and 9)\n",
        "// hexadecimal --> 0,1,2,3,4,5,6,7,8,9,A,B,C,D,E,F,10\n",
        "// 3 digits of binary forms 1 digit of octal\n",
        "// 23(octal) in binary is 2 -> 010 and 3 -> 011; hence 23(octal) in binary is 010011\n",
        "// 4 digits of binary forms 1 digit of hexadecimal\n",
        "// 1E (hexadecimal) in binary is 1->0001 and E is 1111; hence 1E(hexadecimal) in binary is 00011111\n",
        "// we can assign values to variables in the following manner also\n",
        "// int day = 1, int day(1), int day = (0), int day{0}, int day = {0}\n",
        "// int a = 10 (decimal), int a = 010 (octal if it is starting with 0 or prefix is 0), int a = 0x10 (hexadecimal)\n",
        "// float a = 010 (in octal),"
      ],
      "metadata": {
        "id": "SFcthgKzb6fn"
      },
      "execution_count": null,
      "outputs": []
    },
    {
      "cell_type": "code",
      "source": [
        "%%writefile FizzBuzz.cpp\n",
        "// program to demonstrate use of variables and literals in different manner\n",
        "# include<iostream>\n",
        "using namespace std;\n",
        "int main(){\n",
        "    int a = 010;\n",
        "    int b = 0x13;\n",
        "    float f = 013;\n",
        "    string name = \"john\";\n",
        "    cout<<name<<endl;\n",
        "    return 0;\n",
        "}"
      ],
      "metadata": {
        "colab": {
          "base_uri": "https://localhost:8080/"
        },
        "id": "AUXfmdcJpcUk",
        "outputId": "17b8d4ca-db8f-45e3-bf7d-133b009bf684"
      },
      "execution_count": null,
      "outputs": [
        {
          "output_type": "stream",
          "name": "stdout",
          "text": [
            "Writing FizzBuzz.cpp\n"
          ]
        }
      ]
    },
    {
      "cell_type": "code",
      "source": [
        "%%shell\n",
        "g++ FizzBuzz.cpp -o output\n",
        "./output"
      ],
      "metadata": {
        "colab": {
          "base_uri": "https://localhost:8080/"
        },
        "id": "UFhHnW3JqnuE",
        "outputId": "b1a0150b-aca8-4f99-f975-bae285e1aaca"
      },
      "execution_count": null,
      "outputs": [
        {
          "output_type": "stream",
          "name": "stdout",
          "text": [
            "john\n"
          ]
        },
        {
          "output_type": "execute_result",
          "data": {
            "text/plain": [
              ""
            ]
          },
          "metadata": {},
          "execution_count": 2
        }
      ]
    }
  ]
}